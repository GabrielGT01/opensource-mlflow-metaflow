{
 "cells": [
  {
   "cell_type": "code",
   "execution_count": 11,
   "id": "5142bc88-2df0-41e1-a924-77ee9981f9bf",
   "metadata": {},
   "outputs": [],
   "source": [
    "from metaflow import step, FlowSpec, conda_base\n",
    "\n"
   ]
  },
  {
   "cell_type": "code",
   "execution_count": 4,
   "id": "f1306465-b217-4de3-b34c-27ea4a63efa4",
   "metadata": {},
   "outputs": [
    {
     "name": "stdout",
     "output_type": "stream",
     "text": [
      "Writing file.py\n"
     ]
    }
   ],
   "source": [
    "%%writefile file.py\n",
    "\n",
    "from metaflow import step, FlowSpec, conda_base\n",
    "\n",
    "\n",
    "class HelloFlow(FlowSpec):\n",
    "    @step\n",
    "    def start(self):\n",
    "        print(\"Starting 👋\")\n",
    "        self.next(self.eat)\n",
    "\n",
    "    @step\n",
    "    def eat(self):\n",
    "        print(\"Eating 🍜\")\n",
    "        self.next(self.end)\n",
    "\n",
    "    @step\n",
    "    def end(self):\n",
    "        print(\"Done! 🏁\")\n",
    "\n",
    "\n",
    "if __name__ == \"__main__\":\n",
    "    HelloFlow()\n",
    "\n"
   ]
  },
  {
   "cell_type": "code",
   "execution_count": 10,
   "id": "79b1cfea-4b67-45a5-b941-44b171170ec4",
   "metadata": {},
   "outputs": [
    {
     "name": "stdout",
     "output_type": "stream",
     "text": [
      "\u001b[35m\u001b[1mMetaflow 2.12.28\u001b[0m\u001b[35m\u001b[22m executing \u001b[0m\u001b[31m\u001b[1mHelloFlow\u001b[0m\u001b[35m\u001b[22m\u001b[0m\u001b[35m\u001b[22m for \u001b[0m\u001b[31m\u001b[1muser:gabriel\u001b[0m\u001b[35m\u001b[22m\u001b[K\u001b[0m\u001b[35m\u001b[22m\u001b[0m\n",
      "\u001b[35m\u001b[22mValidating your flow...\u001b[K\u001b[0m\u001b[35m\u001b[22m\u001b[0m\n",
      "\u001b[32m\u001b[1m    The graph looks good!\u001b[K\u001b[0m\u001b[32m\u001b[1m\u001b[0m\n",
      "\u001b[35m\u001b[22mRunning pylint...\u001b[K\u001b[0m\u001b[35m\u001b[22m\u001b[0m\n",
      "\u001b[32m\u001b[1m    Pylint is happy!\u001b[K\u001b[0m\u001b[32m\u001b[1m\u001b[0m\n",
      "\u001b[35m2024-11-07 13:19:39.561 \u001b[0m\u001b[1mWorkflow starting (run-id 1730981979559835):\u001b[0m\n",
      "\u001b[35m2024-11-07 13:19:39.574 \u001b[0m\u001b[32m[1730981979559835/start/1 (pid 19348)] \u001b[0m\u001b[1mTask is starting.\u001b[0m\n",
      "\u001b[35m2024-11-07 13:19:39.849 \u001b[0m\u001b[32m[1730981979559835/start/1 (pid 19348)] \u001b[0m\u001b[22mStarting 👋\u001b[0m\n",
      "\u001b[35m2024-11-07 13:19:39.882 \u001b[0m\u001b[32m[1730981979559835/start/1 (pid 19348)] \u001b[0m\u001b[1mTask finished successfully.\u001b[0m\n",
      "\u001b[35m2024-11-07 13:19:39.889 \u001b[0m\u001b[32m[1730981979559835/eat/2 (pid 19350)] \u001b[0m\u001b[1mTask is starting.\u001b[0m\n",
      "\u001b[35m2024-11-07 13:19:40.150 \u001b[0m\u001b[32m[1730981979559835/eat/2 (pid 19350)] \u001b[0m\u001b[22mEating 🍜\u001b[0m\n",
      "\u001b[35m2024-11-07 13:19:40.191 \u001b[0m\u001b[32m[1730981979559835/eat/2 (pid 19350)] \u001b[0m\u001b[1mTask finished successfully.\u001b[0m\n",
      "\u001b[35m2024-11-07 13:19:40.197 \u001b[0m\u001b[32m[1730981979559835/end/3 (pid 19352)] \u001b[0m\u001b[1mTask is starting.\u001b[0m\n",
      "\u001b[35m2024-11-07 13:19:40.453 \u001b[0m\u001b[32m[1730981979559835/end/3 (pid 19352)] \u001b[0m\u001b[22mDone! 🏁\u001b[0m\n",
      "\u001b[35m2024-11-07 13:19:40.486 \u001b[0m\u001b[32m[1730981979559835/end/3 (pid 19352)] \u001b[0m\u001b[1mTask finished successfully.\u001b[0m\n",
      "\u001b[35m2024-11-07 13:19:40.486 \u001b[0m\u001b[1mDone!\u001b[0m\n"
     ]
    }
   ],
   "source": [
    "!python file.py run"
   ]
  },
  {
   "cell_type": "code",
   "execution_count": 12,
   "id": "5b8f356c-8deb-456e-8354-e5c56803052d",
   "metadata": {},
   "outputs": [
    {
     "name": "stdout",
     "output_type": "stream",
     "text": [
      "Overwriting file.py\n"
     ]
    }
   ],
   "source": [
    "%%writefile file.py\n",
    "\n",
    "from metaflow import step, FlowSpec, conda_base\n",
    "\n",
    "\n",
    "class HelloFlow(FlowSpec):\n",
    "    @step\n",
    "    def start(self):\n",
    "        print(\"Starting 👋\")\n",
    "        self.next(self.inbtw)\n",
    "\n",
    "    @step\n",
    "    def inbtw(self):\n",
    "        print('learning')\n",
    "        self.next(self.eat)\n",
    "\n",
    "    @step\n",
    "    def eat(self):\n",
    "        print(\"Eating 🍜\")\n",
    "        self.next(self.end)\n",
    "\n",
    "    @step\n",
    "    def end(self):\n",
    "        print(\"Done! 🏁\")\n",
    "\n",
    "\n",
    "if __name__ == \"__main__\":\n",
    "    HelloFlow()\n",
    "\n"
   ]
  },
  {
   "cell_type": "code",
   "execution_count": 13,
   "id": "9415238e-8756-47df-a083-bce0fd1d0dde",
   "metadata": {},
   "outputs": [
    {
     "name": "stdout",
     "output_type": "stream",
     "text": [
      "\u001b[35m\u001b[1mMetaflow 2.12.28\u001b[0m\u001b[35m\u001b[22m executing \u001b[0m\u001b[31m\u001b[1mHelloFlow\u001b[0m\u001b[35m\u001b[22m\u001b[0m\u001b[35m\u001b[22m for \u001b[0m\u001b[31m\u001b[1muser:gabriel\u001b[0m\u001b[35m\u001b[22m\u001b[K\u001b[0m\u001b[35m\u001b[22m\u001b[0m\n",
      "\u001b[35m\u001b[22mValidating your flow...\u001b[K\u001b[0m\u001b[35m\u001b[22m\u001b[0m\n",
      "\u001b[32m\u001b[1m    The graph looks good!\u001b[K\u001b[0m\u001b[32m\u001b[1m\u001b[0m\n",
      "\u001b[35m\u001b[22mRunning pylint...\u001b[K\u001b[0m\u001b[35m\u001b[22m\u001b[0m\n",
      "\u001b[32m\u001b[1m    Pylint is happy!\u001b[K\u001b[0m\u001b[32m\u001b[1m\u001b[0m\n",
      "\u001b[35m2024-11-07 13:22:43.484 \u001b[0m\u001b[1mWorkflow starting (run-id 1730982163482787):\u001b[0m\n",
      "\u001b[35m2024-11-07 13:22:43.496 \u001b[0m\u001b[32m[1730982163482787/start/1 (pid 19489)] \u001b[0m\u001b[1mTask is starting.\u001b[0m\n",
      "\u001b[35m2024-11-07 13:22:43.776 \u001b[0m\u001b[32m[1730982163482787/start/1 (pid 19489)] \u001b[0m\u001b[22mStarting 👋\u001b[0m\n",
      "\u001b[35m2024-11-07 13:22:43.815 \u001b[0m\u001b[32m[1730982163482787/start/1 (pid 19489)] \u001b[0m\u001b[1mTask finished successfully.\u001b[0m\n",
      "\u001b[35m2024-11-07 13:22:43.824 \u001b[0m\u001b[32m[1730982163482787/inbtw/2 (pid 19491)] \u001b[0m\u001b[1mTask is starting.\u001b[0m\n",
      "\u001b[35m2024-11-07 13:22:44.116 \u001b[0m\u001b[32m[1730982163482787/inbtw/2 (pid 19491)] \u001b[0m\u001b[22mlearning\u001b[0m\n",
      "\u001b[35m2024-11-07 13:22:44.184 \u001b[0m\u001b[32m[1730982163482787/inbtw/2 (pid 19491)] \u001b[0m\u001b[1mTask finished successfully.\u001b[0m\n",
      "\u001b[35m2024-11-07 13:22:44.193 \u001b[0m\u001b[32m[1730982163482787/eat/3 (pid 19493)] \u001b[0m\u001b[1mTask is starting.\u001b[0m\n",
      "\u001b[35m2024-11-07 13:22:44.464 \u001b[0m\u001b[32m[1730982163482787/eat/3 (pid 19493)] \u001b[0m\u001b[22mEating 🍜\u001b[0m\n",
      "\u001b[35m2024-11-07 13:22:44.500 \u001b[0m\u001b[32m[1730982163482787/eat/3 (pid 19493)] \u001b[0m\u001b[1mTask finished successfully.\u001b[0m\n",
      "\u001b[35m2024-11-07 13:22:44.507 \u001b[0m\u001b[32m[1730982163482787/end/4 (pid 19496)] \u001b[0m\u001b[1mTask is starting.\u001b[0m\n",
      "\u001b[35m2024-11-07 13:22:44.786 \u001b[0m\u001b[32m[1730982163482787/end/4 (pid 19496)] \u001b[0m\u001b[22mDone! 🏁\u001b[0m\n",
      "\u001b[35m2024-11-07 13:22:44.839 \u001b[0m\u001b[32m[1730982163482787/end/4 (pid 19496)] \u001b[0m\u001b[1mTask finished successfully.\u001b[0m\n",
      "\u001b[35m2024-11-07 13:22:44.840 \u001b[0m\u001b[1mDone!\u001b[0m\n"
     ]
    }
   ],
   "source": [
    "!python file.py run"
   ]
  },
  {
   "cell_type": "code",
   "execution_count": 20,
   "id": "f05cea84-4209-46a0-b06f-88f88e0f9a6c",
   "metadata": {},
   "outputs": [
    {
     "name": "stdout",
     "output_type": "stream",
     "text": [
      "Overwriting file.py\n"
     ]
    }
   ],
   "source": [
    "%%writefile file.py\n",
    "\n",
    "from metaflow import step, FlowSpec, conda_base\n",
    "\n",
    "\n",
    "class HelloFlow(FlowSpec):\n",
    "    @step\n",
    "    def start(self):\n",
    "        print(\"Starting 👋\")\n",
    "        self.next(self.inbtw)\n",
    "\n",
    "    @step\n",
    "    def inbtw(self):\n",
    "        print('learning')\n",
    "        self.next(self.eat)\n",
    "\n",
    "    @step\n",
    "    def eat(self):\n",
    "        print(\"Eating 🍜\")\n",
    "        self.next(self.middle)\n",
    "\n",
    "    @step\n",
    "    def middle(self):\n",
    "        print(\"Done! 🏁\")\n",
    "        self.next(self.end)\n",
    "\n",
    "    #all steps must start with start and last step is always end\n",
    "    @step\n",
    "    def end(self):\n",
    "        print(\" almost Done! 🏁\")\n",
    "\n",
    "\n",
    "\n",
    "\n",
    "if __name__ == \"__main__\":\n",
    "    HelloFlow()\n",
    "\n"
   ]
  },
  {
   "cell_type": "code",
   "execution_count": 21,
   "id": "bac74978-5c90-4531-9afb-aa6ce55cf29b",
   "metadata": {},
   "outputs": [
    {
     "name": "stdout",
     "output_type": "stream",
     "text": [
      "\u001b[35m\u001b[1mMetaflow 2.12.28\u001b[0m\u001b[35m\u001b[22m executing \u001b[0m\u001b[31m\u001b[1mHelloFlow\u001b[0m\u001b[35m\u001b[22m\u001b[0m\u001b[35m\u001b[22m for \u001b[0m\u001b[31m\u001b[1muser:gabriel\u001b[0m\u001b[35m\u001b[22m\u001b[K\u001b[0m\u001b[35m\u001b[22m\u001b[0m\n",
      "\u001b[35m\u001b[22mValidating your flow...\u001b[K\u001b[0m\u001b[35m\u001b[22m\u001b[0m\n",
      "\u001b[32m\u001b[1m    The graph looks good!\u001b[K\u001b[0m\u001b[32m\u001b[1m\u001b[0m\n",
      "\u001b[35m\u001b[22mRunning pylint...\u001b[K\u001b[0m\u001b[35m\u001b[22m\u001b[0m\n",
      "\u001b[32m\u001b[1m    Pylint is happy!\u001b[K\u001b[0m\u001b[32m\u001b[1m\u001b[0m\n",
      "\u001b[35m2024-11-07 13:29:22.526 \u001b[0m\u001b[1mWorkflow starting (run-id 1730982562525621):\u001b[0m\n",
      "\u001b[35m2024-11-07 13:29:22.538 \u001b[0m\u001b[32m[1730982562525621/start/1 (pid 19822)] \u001b[0m\u001b[1mTask is starting.\u001b[0m\n",
      "\u001b[35m2024-11-07 13:29:22.806 \u001b[0m\u001b[32m[1730982562525621/start/1 (pid 19822)] \u001b[0m\u001b[22mStarting 👋\u001b[0m\n",
      "\u001b[35m2024-11-07 13:29:22.838 \u001b[0m\u001b[32m[1730982562525621/start/1 (pid 19822)] \u001b[0m\u001b[1mTask finished successfully.\u001b[0m\n",
      "\u001b[35m2024-11-07 13:29:22.846 \u001b[0m\u001b[32m[1730982562525621/inbtw/2 (pid 19824)] \u001b[0m\u001b[1mTask is starting.\u001b[0m\n",
      "\u001b[35m2024-11-07 13:29:23.103 \u001b[0m\u001b[32m[1730982562525621/inbtw/2 (pid 19824)] \u001b[0m\u001b[22mlearning\u001b[0m\n",
      "\u001b[35m2024-11-07 13:29:23.139 \u001b[0m\u001b[32m[1730982562525621/inbtw/2 (pid 19824)] \u001b[0m\u001b[1mTask finished successfully.\u001b[0m\n",
      "\u001b[35m2024-11-07 13:29:23.146 \u001b[0m\u001b[32m[1730982562525621/eat/3 (pid 19826)] \u001b[0m\u001b[1mTask is starting.\u001b[0m\n",
      "\u001b[35m2024-11-07 13:29:23.401 \u001b[0m\u001b[32m[1730982562525621/eat/3 (pid 19826)] \u001b[0m\u001b[22mEating 🍜\u001b[0m\n",
      "\u001b[35m2024-11-07 13:29:23.442 \u001b[0m\u001b[32m[1730982562525621/eat/3 (pid 19826)] \u001b[0m\u001b[1mTask finished successfully.\u001b[0m\n",
      "\u001b[35m2024-11-07 13:29:23.449 \u001b[0m\u001b[32m[1730982562525621/middle/4 (pid 19828)] \u001b[0m\u001b[1mTask is starting.\u001b[0m\n",
      "\u001b[35m2024-11-07 13:29:23.706 \u001b[0m\u001b[32m[1730982562525621/middle/4 (pid 19828)] \u001b[0m\u001b[22mDone! 🏁\u001b[0m\n",
      "\u001b[35m2024-11-07 13:29:23.738 \u001b[0m\u001b[32m[1730982562525621/middle/4 (pid 19828)] \u001b[0m\u001b[1mTask finished successfully.\u001b[0m\n",
      "\u001b[35m2024-11-07 13:29:23.745 \u001b[0m\u001b[32m[1730982562525621/end/5 (pid 19830)] \u001b[0m\u001b[1mTask is starting.\u001b[0m\n",
      "\u001b[35m2024-11-07 13:29:24.004 \u001b[0m\u001b[32m[1730982562525621/end/5 (pid 19830)] \u001b[0m\u001b[22malmost Done! 🏁\u001b[0m\n",
      "\u001b[35m2024-11-07 13:29:24.041 \u001b[0m\u001b[32m[1730982562525621/end/5 (pid 19830)] \u001b[0m\u001b[1mTask finished successfully.\u001b[0m\n",
      "\u001b[35m2024-11-07 13:29:24.042 \u001b[0m\u001b[1mDone!\u001b[0m\n"
     ]
    }
   ],
   "source": [
    "!python file.py run"
   ]
  },
  {
   "cell_type": "code",
   "execution_count": 22,
   "id": "c591cc84-e5a4-4274-984e-ba937d74757f",
   "metadata": {},
   "outputs": [
    {
     "name": "stdout",
     "output_type": "stream",
     "text": [
      "Overwriting file.py\n"
     ]
    }
   ],
   "source": [
    "%%writefile file.py\n",
    "#steps can run independently of each other\n",
    "from metaflow import step, FlowSpec, conda_base\n",
    "\n",
    "import time\n",
    "from metaflow import step, FlowSpec\n",
    "\n",
    "\n",
    "class BranchFlow(FlowSpec):\n",
    "    @step\n",
    "    def start(self):\n",
    "        print(\"Starting 👋\")\n",
    "        #this steps will run separately and do not wait for each other\n",
    "        self.next(self.eat, self.drink)\n",
    "        \n",
    "\n",
    "    @step\n",
    "    def eat(self):\n",
    "        print(\"Pausing to eat... 🍜\")\n",
    "        time.sleep(10)\n",
    "        self.next(self.join)\n",
    "\n",
    "    @step\n",
    "    def drink(self):\n",
    "        print(\"Pausing to drink... 🥤\")\n",
    "        time.sleep(10)\n",
    "        self.next(self.join)\n",
    "    #then they converge here, the step must be named join and always have an input that inherites\n",
    "\n",
    "    #join does not execute until both process finishes\n",
    "    @step\n",
    "    def join(self, inputs):\n",
    "        print(\"Joining 🖇️\")\n",
    "        self.next(self.end)\n",
    "\n",
    "    @step\n",
    "    def end(self):\n",
    "        print(\"Done! 🏁\")\n",
    "\n",
    "\n",
    "if __name__ == \"__main__\":\n",
    "    BranchFlow()\n"
   ]
  },
  {
   "cell_type": "code",
   "execution_count": 23,
   "id": "04a45aa5-7dba-4c11-80be-55550bd6933c",
   "metadata": {},
   "outputs": [
    {
     "name": "stdout",
     "output_type": "stream",
     "text": [
      "\u001b[35m\u001b[1mMetaflow 2.12.28\u001b[0m\u001b[35m\u001b[22m executing \u001b[0m\u001b[31m\u001b[1mBranchFlow\u001b[0m\u001b[35m\u001b[22m\u001b[0m\u001b[35m\u001b[22m for \u001b[0m\u001b[31m\u001b[1muser:gabriel\u001b[0m\u001b[35m\u001b[22m\u001b[K\u001b[0m\u001b[35m\u001b[22m\u001b[0m\n",
      "\u001b[35m\u001b[22mValidating your flow...\u001b[K\u001b[0m\u001b[35m\u001b[22m\u001b[0m\n",
      "\u001b[32m\u001b[1m    The graph looks good!\u001b[K\u001b[0m\u001b[32m\u001b[1m\u001b[0m\n",
      "\u001b[35m\u001b[22mRunning pylint...\u001b[K\u001b[0m\u001b[35m\u001b[22m\u001b[0m\n",
      "\u001b[32m\u001b[1m    Pylint is happy!\u001b[K\u001b[0m\u001b[32m\u001b[1m\u001b[0m\n",
      "\u001b[35m2024-11-07 13:37:04.209 \u001b[0m\u001b[1mWorkflow starting (run-id 1730983024207930):\u001b[0m\n",
      "\u001b[35m2024-11-07 13:37:04.227 \u001b[0m\u001b[32m[1730983024207930/start/1 (pid 20099)] \u001b[0m\u001b[1mTask is starting.\u001b[0m\n",
      "\u001b[35m2024-11-07 13:37:04.516 \u001b[0m\u001b[32m[1730983024207930/start/1 (pid 20099)] \u001b[0m\u001b[22mStarting 👋\u001b[0m\n",
      "\u001b[35m2024-11-07 13:37:04.559 \u001b[0m\u001b[32m[1730983024207930/start/1 (pid 20099)] \u001b[0m\u001b[1mTask finished successfully.\u001b[0m\n",
      "\u001b[35m2024-11-07 13:37:04.566 \u001b[0m\u001b[32m[1730983024207930/eat/2 (pid 20101)] \u001b[0m\u001b[1mTask is starting.\u001b[0m\n",
      "\u001b[35m2024-11-07 13:37:04.574 \u001b[0m\u001b[32m[1730983024207930/drink/3 (pid 20102)] \u001b[0m\u001b[1mTask is starting.\u001b[0m\n",
      "\u001b[35m2024-11-07 13:37:04.861 \u001b[0m\u001b[32m[1730983024207930/eat/2 (pid 20101)] \u001b[0m\u001b[22mPausing to eat... 🍜\u001b[0m\n",
      "\u001b[35m2024-11-07 13:37:04.863 \u001b[0m\u001b[32m[1730983024207930/drink/3 (pid 20102)] \u001b[0m\u001b[22mPausing to drink... 🥤\u001b[0m\n",
      "\u001b[35m2024-11-07 13:37:14.936 \u001b[0m\u001b[32m[1730983024207930/drink/3 (pid 20102)] \u001b[0m\u001b[1mTask finished successfully.\u001b[0m\n",
      "\u001b[35m2024-11-07 13:37:14.937 \u001b[0m\u001b[32m[1730983024207930/eat/2 (pid 20101)] \u001b[0m\u001b[1mTask finished successfully.\u001b[0m\n",
      "\u001b[35m2024-11-07 13:37:14.943 \u001b[0m\u001b[32m[1730983024207930/join/4 (pid 20108)] \u001b[0m\u001b[1mTask is starting.\u001b[0m\n",
      "\u001b[35m2024-11-07 13:37:15.229 \u001b[0m\u001b[32m[1730983024207930/join/4 (pid 20108)] \u001b[0m\u001b[22mJoining 🖇️\u001b[0m\n",
      "\u001b[35m2024-11-07 13:37:15.267 \u001b[0m\u001b[32m[1730983024207930/join/4 (pid 20108)] \u001b[0m\u001b[1mTask finished successfully.\u001b[0m\n",
      "\u001b[35m2024-11-07 13:37:15.274 \u001b[0m\u001b[32m[1730983024207930/end/5 (pid 20110)] \u001b[0m\u001b[1mTask is starting.\u001b[0m\n",
      "\u001b[35m2024-11-07 13:37:15.530 \u001b[0m\u001b[32m[1730983024207930/end/5 (pid 20110)] \u001b[0m\u001b[22mDone! 🏁\u001b[0m\n",
      "\u001b[35m2024-11-07 13:37:15.566 \u001b[0m\u001b[32m[1730983024207930/end/5 (pid 20110)] \u001b[0m\u001b[1mTask finished successfully.\u001b[0m\n",
      "\u001b[35m2024-11-07 13:37:15.567 \u001b[0m\u001b[1mDone!\u001b[0m\n"
     ]
    }
   ],
   "source": [
    "!python file.py run"
   ]
  },
  {
   "cell_type": "code",
   "execution_count": 28,
   "id": "13094fcd-6cb8-4517-94ac-baac5b65c807",
   "metadata": {},
   "outputs": [
    {
     "name": "stdout",
     "output_type": "stream",
     "text": [
      "Overwriting file.py\n"
     ]
    }
   ],
   "source": [
    "%%writefile file.py\n",
    "from metaflow import step, FlowSpec, conda_base\n",
    "import time\n",
    "\n",
    "class BranchFlow(FlowSpec):\n",
    "    @step\n",
    "    def start(self):\n",
    "        print(\"Starting 👋\")\n",
    "        self.next(self.eat, self.drink)\n",
    "\n",
    "    @step\n",
    "    def eat(self):\n",
    "        print(\"Pausing to eat... 🍜\")\n",
    "        time.sleep(10)\n",
    "        self.next(self.join)\n",
    "\n",
    "    @step\n",
    "    def drink(self):\n",
    "        print(\"Pausing to drink... 🥤\")\n",
    "        time.sleep(10)\n",
    "        self.next(self.join)\n",
    "    #join does not execute until both process finishes\n",
    "    #converge the steps here\n",
    "    @step\n",
    "    def join(self, inputs):\n",
    "        print(\"Joining 🖇️\")\n",
    "        self.next(self.new_one)\n",
    "\n",
    "    @step\n",
    "    def new_one(self):\n",
    "        print('game time is 10:00pm')\n",
    "        self.next(self.location, self.league)\n",
    "    #a new one here\n",
    "    @step\n",
    "    def location(self):\n",
    "        print(\"location is stamford bridge... 🍜\")\n",
    "        time.sleep(10)\n",
    "        self.next(self.final_join)\n",
    "\n",
    "    @step\n",
    "    def league(self):\n",
    "        print(\"it's a premier league game 🍜\")\n",
    "        self.next(self.final_join)\n",
    "    #join the branches here\n",
    "    @step\n",
    "    def final_join(self, inputs):\n",
    "        print(\"Joining 🖇️\")\n",
    "        self.next(self.end)\n",
    "\n",
    "    @step\n",
    "    def end(self):\n",
    "        print(\"Done! 🏁\")\n",
    "\n",
    "if __name__ == \"__main__\":\n",
    "    BranchFlow()"
   ]
  },
  {
   "cell_type": "code",
   "execution_count": 29,
   "id": "df67e3b6-a56d-4438-88e3-36208b34bc09",
   "metadata": {},
   "outputs": [
    {
     "name": "stdout",
     "output_type": "stream",
     "text": [
      "\u001b[35m\u001b[1mMetaflow 2.12.28\u001b[0m\u001b[35m\u001b[22m executing \u001b[0m\u001b[31m\u001b[1mBranchFlow\u001b[0m\u001b[35m\u001b[22m\u001b[0m\u001b[35m\u001b[22m for \u001b[0m\u001b[31m\u001b[1muser:gabriel\u001b[0m\u001b[35m\u001b[22m\u001b[K\u001b[0m\u001b[35m\u001b[22m\u001b[0m\n",
      "\u001b[35m\u001b[22mValidating your flow...\u001b[K\u001b[0m\u001b[35m\u001b[22m\u001b[0m\n",
      "\u001b[32m\u001b[1m    The graph looks good!\u001b[K\u001b[0m\u001b[32m\u001b[1m\u001b[0m\n",
      "\u001b[35m\u001b[22mRunning pylint...\u001b[K\u001b[0m\u001b[35m\u001b[22m\u001b[0m\n",
      "\u001b[32m\u001b[1m    Pylint is happy!\u001b[K\u001b[0m\u001b[32m\u001b[1m\u001b[0m\n",
      "\u001b[35m2024-11-07 13:53:15.235 \u001b[0m\u001b[1mWorkflow starting (run-id 1730983995234758):\u001b[0m\n",
      "\u001b[35m2024-11-07 13:53:15.247 \u001b[0m\u001b[32m[1730983995234758/start/1 (pid 20821)] \u001b[0m\u001b[1mTask is starting.\u001b[0m\n",
      "\u001b[35m2024-11-07 13:53:15.504 \u001b[0m\u001b[32m[1730983995234758/start/1 (pid 20821)] \u001b[0m\u001b[22mStarting 👋\u001b[0m\n",
      "\u001b[35m2024-11-07 13:53:15.540 \u001b[0m\u001b[32m[1730983995234758/start/1 (pid 20821)] \u001b[0m\u001b[1mTask finished successfully.\u001b[0m\n",
      "\u001b[35m2024-11-07 13:53:15.547 \u001b[0m\u001b[32m[1730983995234758/eat/2 (pid 20823)] \u001b[0m\u001b[1mTask is starting.\u001b[0m\n",
      "\u001b[35m2024-11-07 13:53:15.556 \u001b[0m\u001b[32m[1730983995234758/drink/3 (pid 20824)] \u001b[0m\u001b[1mTask is starting.\u001b[0m\n",
      "\u001b[35m2024-11-07 13:53:15.824 \u001b[0m\u001b[32m[1730983995234758/eat/2 (pid 20823)] \u001b[0m\u001b[22mPausing to eat... 🍜\u001b[0m\n",
      "\u001b[35m2024-11-07 13:53:15.830 \u001b[0m\u001b[32m[1730983995234758/drink/3 (pid 20824)] \u001b[0m\u001b[22mPausing to drink... 🥤\u001b[0m\n",
      "\u001b[35m2024-11-07 13:53:25.908 \u001b[0m\u001b[32m[1730983995234758/drink/3 (pid 20824)] \u001b[0m\u001b[1mTask finished successfully.\u001b[0m\n",
      "\u001b[35m2024-11-07 13:53:25.910 \u001b[0m\u001b[32m[1730983995234758/eat/2 (pid 20823)] \u001b[0m\u001b[1mTask finished successfully.\u001b[0m\n",
      "\u001b[35m2024-11-07 13:53:25.916 \u001b[0m\u001b[32m[1730983995234758/join/4 (pid 20854)] \u001b[0m\u001b[1mTask is starting.\u001b[0m\n",
      "\u001b[35m2024-11-07 13:53:26.256 \u001b[0m\u001b[32m[1730983995234758/join/4 (pid 20854)] \u001b[0m\u001b[22mJoining 🖇️\u001b[0m\n",
      "\u001b[35m2024-11-07 13:53:26.292 \u001b[0m\u001b[32m[1730983995234758/join/4 (pid 20854)] \u001b[0m\u001b[1mTask finished successfully.\u001b[0m\n",
      "\u001b[35m2024-11-07 13:53:26.298 \u001b[0m\u001b[32m[1730983995234758/new_one/5 (pid 20856)] \u001b[0m\u001b[1mTask is starting.\u001b[0m\n",
      "\u001b[35m2024-11-07 13:53:26.566 \u001b[0m\u001b[32m[1730983995234758/new_one/5 (pid 20856)] \u001b[0m\u001b[22mgame time is 10:00pm\u001b[0m\n",
      "\u001b[35m2024-11-07 13:53:26.608 \u001b[0m\u001b[32m[1730983995234758/new_one/5 (pid 20856)] \u001b[0m\u001b[1mTask finished successfully.\u001b[0m\n",
      "\u001b[35m2024-11-07 13:53:26.616 \u001b[0m\u001b[32m[1730983995234758/location/6 (pid 20858)] \u001b[0m\u001b[1mTask is starting.\u001b[0m\n",
      "\u001b[35m2024-11-07 13:53:26.624 \u001b[0m\u001b[32m[1730983995234758/league/7 (pid 20859)] \u001b[0m\u001b[1mTask is starting.\u001b[0m\n",
      "\u001b[35m2024-11-07 13:53:26.962 \u001b[0m\u001b[32m[1730983995234758/location/6 (pid 20858)] \u001b[0m\u001b[22mlocation is stamford bridge... 🍜\u001b[0m\n",
      "\u001b[35m2024-11-07 13:53:26.962 \u001b[0m\u001b[32m[1730983995234758/league/7 (pid 20859)] \u001b[0m\u001b[22mit's a premier league game 🍜\u001b[0m\n",
      "\u001b[35m2024-11-07 13:53:27.005 \u001b[0m\u001b[32m[1730983995234758/league/7 (pid 20859)] \u001b[0m\u001b[1mTask finished successfully.\u001b[0m\n",
      "\u001b[35m2024-11-07 13:53:37.029 \u001b[0m\u001b[32m[1730983995234758/location/6 (pid 20858)] \u001b[0m\u001b[1mTask finished successfully.\u001b[0m\n",
      "\u001b[35m2024-11-07 13:53:37.036 \u001b[0m\u001b[32m[1730983995234758/final_join/8 (pid 20874)] \u001b[0m\u001b[1mTask is starting.\u001b[0m\n",
      "\u001b[35m2024-11-07 13:53:37.409 \u001b[0m\u001b[32m[1730983995234758/final_join/8 (pid 20874)] \u001b[0m\u001b[22mJoining 🖇️\u001b[0m\n",
      "\u001b[35m2024-11-07 13:53:37.444 \u001b[0m\u001b[32m[1730983995234758/final_join/8 (pid 20874)] \u001b[0m\u001b[1mTask finished successfully.\u001b[0m\n",
      "\u001b[35m2024-11-07 13:53:37.450 \u001b[0m\u001b[32m[1730983995234758/end/9 (pid 20876)] \u001b[0m\u001b[1mTask is starting.\u001b[0m\n",
      "\u001b[35m2024-11-07 13:53:37.705 \u001b[0m\u001b[32m[1730983995234758/end/9 (pid 20876)] \u001b[0m\u001b[22mDone! 🏁\u001b[0m\n",
      "\u001b[35m2024-11-07 13:53:37.740 \u001b[0m\u001b[32m[1730983995234758/end/9 (pid 20876)] \u001b[0m\u001b[1mTask finished successfully.\u001b[0m\n",
      "\u001b[35m2024-11-07 13:53:37.741 \u001b[0m\u001b[1mDone!\u001b[0m\n"
     ]
    }
   ],
   "source": [
    "!python file.py run"
   ]
  },
  {
   "cell_type": "code",
   "execution_count": 31,
   "id": "dff03e9a-d6f4-43d4-b538-7cad466bf049",
   "metadata": {},
   "outputs": [
    {
     "name": "stdout",
     "output_type": "stream",
     "text": [
      "Overwriting file.py\n"
     ]
    }
   ],
   "source": [
    "%%writefile file.py\n",
    "from metaflow import step, FlowSpec, conda_base\n",
    "\n",
    "\n",
    "class ArtifactFlow(FlowSpec):\n",
    "    @step\n",
    "    def start(self):\n",
    "        self.x = 5\n",
    "        self.next(self.train)\n",
    "\n",
    "    @step\n",
    "    def train(self):\n",
    "        self.x += 1\n",
    "        self.next(self.end)\n",
    "\n",
    "    @step\n",
    "    def end(self):\n",
    "        print(\"the value of x is\", self.x)\n",
    "\n",
    "\n",
    "if __name__ == \"__main__\":\n",
    "    ArtifactFlow()\n"
   ]
  },
  {
   "cell_type": "code",
   "execution_count": 32,
   "id": "40f54ed2-c8da-441d-856d-23d07feeec33",
   "metadata": {},
   "outputs": [
    {
     "name": "stdout",
     "output_type": "stream",
     "text": [
      "\u001b[35m\u001b[1mMetaflow 2.12.28\u001b[0m\u001b[35m\u001b[22m executing \u001b[0m\u001b[31m\u001b[1mArtifactFlow\u001b[0m\u001b[35m\u001b[22m\u001b[0m\u001b[35m\u001b[22m for \u001b[0m\u001b[31m\u001b[1muser:gabriel\u001b[0m\u001b[35m\u001b[22m\u001b[K\u001b[0m\u001b[35m\u001b[22m\u001b[0m\n",
      "\u001b[35m\u001b[22mValidating your flow...\u001b[K\u001b[0m\u001b[35m\u001b[22m\u001b[0m\n",
      "\u001b[32m\u001b[1m    The graph looks good!\u001b[K\u001b[0m\u001b[32m\u001b[1m\u001b[0m\n",
      "\u001b[35m\u001b[22mRunning pylint...\u001b[K\u001b[0m\u001b[35m\u001b[22m\u001b[0m\n",
      "\u001b[32m\u001b[1m    Pylint is happy!\u001b[K\u001b[0m\u001b[32m\u001b[1m\u001b[0m\n",
      "\u001b[35m2024-11-07 14:44:33.135 \u001b[0m\u001b[1mWorkflow starting (run-id 1730987073134295):\u001b[0m\n",
      "\u001b[35m2024-11-07 14:44:33.148 \u001b[0m\u001b[32m[1730987073134295/start/1 (pid 22502)] \u001b[0m\u001b[1mTask is starting.\u001b[0m\n",
      "\u001b[35m2024-11-07 14:44:33.452 \u001b[0m\u001b[32m[1730987073134295/start/1 (pid 22502)] \u001b[0m\u001b[1mTask finished successfully.\u001b[0m\n",
      "\u001b[35m2024-11-07 14:44:33.458 \u001b[0m\u001b[32m[1730987073134295/train/2 (pid 22504)] \u001b[0m\u001b[1mTask is starting.\u001b[0m\n",
      "\u001b[35m2024-11-07 14:44:33.746 \u001b[0m\u001b[32m[1730987073134295/train/2 (pid 22504)] \u001b[0m\u001b[1mTask finished successfully.\u001b[0m\n",
      "\u001b[35m2024-11-07 14:44:33.752 \u001b[0m\u001b[32m[1730987073134295/end/3 (pid 22506)] \u001b[0m\u001b[1mTask is starting.\u001b[0m\n",
      "\u001b[35m2024-11-07 14:44:34.027 \u001b[0m\u001b[32m[1730987073134295/end/3 (pid 22506)] \u001b[0m\u001b[22mthe value of x is 6\u001b[0m\n",
      "\u001b[35m2024-11-07 14:44:34.069 \u001b[0m\u001b[32m[1730987073134295/end/3 (pid 22506)] \u001b[0m\u001b[1mTask finished successfully.\u001b[0m\n",
      "\u001b[35m2024-11-07 14:44:34.069 \u001b[0m\u001b[1mDone!\u001b[0m\n"
     ]
    }
   ],
   "source": [
    "!python file.py run"
   ]
  },
  {
   "cell_type": "code",
   "execution_count": 33,
   "id": "de8209b1-822d-4b9a-a886-f26237ac1cd1",
   "metadata": {},
   "outputs": [
    {
     "name": "stdout",
     "output_type": "stream",
     "text": [
      "Overwriting file.py\n"
     ]
    }
   ],
   "source": [
    "%%writefile file.py\n",
    "from metaflow import step, FlowSpec, conda_base\n",
    "\n",
    "\n",
    "class ArtifactFlow(FlowSpec):\n",
    "    @step\n",
    "    def start(self):\n",
    "        self.x = 5\n",
    "        self.next(self.train)\n",
    "\n",
    "    @step\n",
    "    def train(self):\n",
    "        self.x += 1\n",
    "        self.next(self.test)\n",
    "\n",
    "    @step\n",
    "    def test(self):\n",
    "        self.x = (self.x / 2) * 9\n",
    "        self.next(self.end)\n",
    "\n",
    "    @step\n",
    "    def end(self):\n",
    "        print(\"the value of x is\", self.x)\n",
    "\n",
    "\n",
    "if __name__ == \"__main__\":\n",
    "    ArtifactFlow()\n"
   ]
  },
  {
   "cell_type": "code",
   "execution_count": 34,
   "id": "bd04b7a2-15ab-441b-8f35-4f264e8fc53b",
   "metadata": {},
   "outputs": [
    {
     "name": "stdout",
     "output_type": "stream",
     "text": [
      "\u001b[35m\u001b[1mMetaflow 2.12.28\u001b[0m\u001b[35m\u001b[22m executing \u001b[0m\u001b[31m\u001b[1mArtifactFlow\u001b[0m\u001b[35m\u001b[22m\u001b[0m\u001b[35m\u001b[22m for \u001b[0m\u001b[31m\u001b[1muser:gabriel\u001b[0m\u001b[35m\u001b[22m\u001b[K\u001b[0m\u001b[35m\u001b[22m\u001b[0m\n",
      "\u001b[35m\u001b[22mValidating your flow...\u001b[K\u001b[0m\u001b[35m\u001b[22m\u001b[0m\n",
      "\u001b[32m\u001b[1m    The graph looks good!\u001b[K\u001b[0m\u001b[32m\u001b[1m\u001b[0m\n",
      "\u001b[35m\u001b[22mRunning pylint...\u001b[K\u001b[0m\u001b[35m\u001b[22m\u001b[0m\n",
      "\u001b[32m\u001b[1m    Pylint is happy!\u001b[K\u001b[0m\u001b[32m\u001b[1m\u001b[0m\n",
      "\u001b[35m2024-11-07 14:45:49.283 \u001b[0m\u001b[1mWorkflow starting (run-id 1730987149282305):\u001b[0m\n",
      "\u001b[35m2024-11-07 14:45:49.294 \u001b[0m\u001b[32m[1730987149282305/start/1 (pid 22559)] \u001b[0m\u001b[1mTask is starting.\u001b[0m\n",
      "\u001b[35m2024-11-07 14:45:49.609 \u001b[0m\u001b[32m[1730987149282305/start/1 (pid 22559)] \u001b[0m\u001b[1mTask finished successfully.\u001b[0m\n",
      "\u001b[35m2024-11-07 14:45:49.615 \u001b[0m\u001b[32m[1730987149282305/train/2 (pid 22561)] \u001b[0m\u001b[1mTask is starting.\u001b[0m\n",
      "\u001b[35m2024-11-07 14:45:49.903 \u001b[0m\u001b[32m[1730987149282305/train/2 (pid 22561)] \u001b[0m\u001b[1mTask finished successfully.\u001b[0m\n",
      "\u001b[35m2024-11-07 14:45:49.909 \u001b[0m\u001b[32m[1730987149282305/test/3 (pid 22563)] \u001b[0m\u001b[1mTask is starting.\u001b[0m\n",
      "\u001b[35m2024-11-07 14:45:50.212 \u001b[0m\u001b[32m[1730987149282305/test/3 (pid 22563)] \u001b[0m\u001b[1mTask finished successfully.\u001b[0m\n",
      "\u001b[35m2024-11-07 14:45:50.219 \u001b[0m\u001b[32m[1730987149282305/end/4 (pid 22565)] \u001b[0m\u001b[1mTask is starting.\u001b[0m\n",
      "\u001b[35m2024-11-07 14:45:50.477 \u001b[0m\u001b[32m[1730987149282305/end/4 (pid 22565)] \u001b[0m\u001b[22mthe value of x is 27.0\u001b[0m\n",
      "\u001b[35m2024-11-07 14:45:50.518 \u001b[0m\u001b[32m[1730987149282305/end/4 (pid 22565)] \u001b[0m\u001b[1mTask finished successfully.\u001b[0m\n",
      "\u001b[35m2024-11-07 14:45:50.519 \u001b[0m\u001b[1mDone!\u001b[0m\n"
     ]
    }
   ],
   "source": [
    "!python file.py run"
   ]
  },
  {
   "cell_type": "code",
   "execution_count": 3,
   "id": "7525e696-18f4-41dd-b7f9-95cc62b56ec8",
   "metadata": {},
   "outputs": [
    {
     "name": "stdout",
     "output_type": "stream",
     "text": [
      "Overwriting file.py\n"
     ]
    }
   ],
   "source": [
    "%%writefile file.py\n",
    "#steps can run independently of each other\n",
    "from metaflow import step, FlowSpec, conda_base\n",
    "\n",
    "import time\n",
    "from metaflow import step, FlowSpec\n",
    "\n",
    "\n",
    "class BranchFlow(FlowSpec):\n",
    "    @step\n",
    "    def start(self):\n",
    "        print(\"Starting 👋\")\n",
    "        #this steps will run separately and do not wait for each other\n",
    "        self.next(self.eat, self.drink)\n",
    "        \n",
    "\n",
    "    @step\n",
    "    def eat(self):\n",
    "        print(\"Pausing to eat... 🍜\")\n",
    "        time.sleep(10)\n",
    "        self.a = 1\n",
    "        self.next(self.join)\n",
    "\n",
    "    @step\n",
    "    def drink(self):\n",
    "        print(\"Pausing to drink... 🥤\")\n",
    "        self.b = 5\n",
    "        self.next(self.join)\n",
    "        \n",
    "    #have to inherit from the branches and need the name of the func\n",
    "    @step\n",
    "    def join(self, inputs):\n",
    "        print(\"Joining 🖇️\")\n",
    "        print(inputs.eat.a, inputs.drink.b)\n",
    "        self.next(self.end)\n",
    "\n",
    "    @step\n",
    "    def end(self):\n",
    "        print(\"Done! 🏁\")\n",
    "\n",
    "\n",
    "if __name__ == \"__main__\":\n",
    "    BranchFlow()\n"
   ]
  },
  {
   "cell_type": "code",
   "execution_count": 4,
   "id": "98f85c87-1303-42f7-a6f0-5f546b77e672",
   "metadata": {},
   "outputs": [
    {
     "name": "stdout",
     "output_type": "stream",
     "text": [
      "\u001b[35m\u001b[1mMetaflow 2.12.28\u001b[0m\u001b[35m\u001b[22m executing \u001b[0m\u001b[31m\u001b[1mBranchFlow\u001b[0m\u001b[35m\u001b[22m\u001b[0m\u001b[35m\u001b[22m for \u001b[0m\u001b[31m\u001b[1muser:gabriel\u001b[0m\u001b[35m\u001b[22m\u001b[K\u001b[0m\u001b[35m\u001b[22m\u001b[0m\n",
      "\u001b[35m\u001b[22mValidating your flow...\u001b[K\u001b[0m\u001b[35m\u001b[22m\u001b[0m\n",
      "\u001b[32m\u001b[1m    The graph looks good!\u001b[K\u001b[0m\u001b[32m\u001b[1m\u001b[0m\n",
      "\u001b[35m\u001b[22mRunning pylint...\u001b[K\u001b[0m\u001b[35m\u001b[22m\u001b[0m\n",
      "\u001b[32m\u001b[1m    Pylint is happy!\u001b[K\u001b[0m\u001b[32m\u001b[1m\u001b[0m\n",
      "\u001b[35m2024-11-07 14:57:18.888 \u001b[0m\u001b[1mWorkflow starting (run-id 1730987838887601):\u001b[0m\n",
      "\u001b[35m2024-11-07 14:57:18.900 \u001b[0m\u001b[32m[1730987838887601/start/1 (pid 23195)] \u001b[0m\u001b[1mTask is starting.\u001b[0m\n",
      "\u001b[35m2024-11-07 14:57:19.186 \u001b[0m\u001b[32m[1730987838887601/start/1 (pid 23195)] \u001b[0m\u001b[22mStarting 👋\u001b[0m\n",
      "\u001b[35m2024-11-07 14:57:19.237 \u001b[0m\u001b[32m[1730987838887601/start/1 (pid 23195)] \u001b[0m\u001b[1mTask finished successfully.\u001b[0m\n",
      "\u001b[35m2024-11-07 14:57:19.248 \u001b[0m\u001b[32m[1730987838887601/eat/2 (pid 23198)] \u001b[0m\u001b[1mTask is starting.\u001b[0m\n",
      "\u001b[35m2024-11-07 14:57:19.254 \u001b[0m\u001b[32m[1730987838887601/drink/3 (pid 23199)] \u001b[0m\u001b[1mTask is starting.\u001b[0m\n",
      "\u001b[35m2024-11-07 14:57:19.573 \u001b[0m\u001b[32m[1730987838887601/eat/2 (pid 23198)] \u001b[0m\u001b[22mPausing to eat... 🍜\u001b[0m\n",
      "\u001b[35m2024-11-07 14:57:19.575 \u001b[0m\u001b[32m[1730987838887601/drink/3 (pid 23199)] \u001b[0m\u001b[22mPausing to drink... 🥤\u001b[0m\n",
      "\u001b[35m2024-11-07 14:57:19.613 \u001b[0m\u001b[32m[1730987838887601/drink/3 (pid 23199)] \u001b[0m\u001b[1mTask finished successfully.\u001b[0m\n",
      "\u001b[35m2024-11-07 14:57:29.644 \u001b[0m\u001b[32m[1730987838887601/eat/2 (pid 23198)] \u001b[0m\u001b[1mTask finished successfully.\u001b[0m\n",
      "\u001b[35m2024-11-07 14:57:29.651 \u001b[0m\u001b[32m[1730987838887601/join/4 (pid 23211)] \u001b[0m\u001b[1mTask is starting.\u001b[0m\n",
      "\u001b[35m2024-11-07 14:57:29.936 \u001b[0m\u001b[32m[1730987838887601/join/4 (pid 23211)] \u001b[0m\u001b[22mJoining 🖇️\u001b[0m\n",
      "\u001b[35m2024-11-07 14:57:29.937 \u001b[0m\u001b[32m[1730987838887601/join/4 (pid 23211)] \u001b[0m\u001b[22m1 5\u001b[0m\n",
      "\u001b[35m2024-11-07 14:57:29.977 \u001b[0m\u001b[32m[1730987838887601/join/4 (pid 23211)] \u001b[0m\u001b[1mTask finished successfully.\u001b[0m\n",
      "\u001b[35m2024-11-07 14:57:29.984 \u001b[0m\u001b[32m[1730987838887601/end/5 (pid 23213)] \u001b[0m\u001b[1mTask is starting.\u001b[0m\n",
      "\u001b[35m2024-11-07 14:57:30.262 \u001b[0m\u001b[32m[1730987838887601/end/5 (pid 23213)] \u001b[0m\u001b[22mDone! 🏁\u001b[0m\n",
      "\u001b[35m2024-11-07 14:57:30.301 \u001b[0m\u001b[32m[1730987838887601/end/5 (pid 23213)] \u001b[0m\u001b[1mTask finished successfully.\u001b[0m\n",
      "\u001b[35m2024-11-07 14:57:30.302 \u001b[0m\u001b[1mDone!\u001b[0m\n"
     ]
    }
   ],
   "source": [
    "!python file.py run"
   ]
  },
  {
   "cell_type": "code",
   "execution_count": 8,
   "id": "d4ed6a98-0a61-4047-804a-ae17db6e6708",
   "metadata": {},
   "outputs": [
    {
     "name": "stdout",
     "output_type": "stream",
     "text": [
      "Overwriting file.py\n"
     ]
    }
   ],
   "source": [
    "%%writefile file.py\n",
    "#steps can run independently of each other\n",
    "#self.merge allows to merge all inputs \n",
    "from metaflow import step, FlowSpec, conda_base\n",
    "\n",
    "import time\n",
    "from metaflow import step, FlowSpec\n",
    "\n",
    "\n",
    "class BranchFlow(FlowSpec):\n",
    "    @step\n",
    "    def start(self):\n",
    "        print(\"Starting 👋\")\n",
    "        #this steps will run separately and do not wait for each other\n",
    "        self.next(self.eat, self.drink)\n",
    "        \n",
    "\n",
    "    @step\n",
    "    def eat(self):\n",
    "        print(\"Pausing to eat... 🍜\")\n",
    "        time.sleep(10)\n",
    "        self.a = 1\n",
    "        self.next(self.join)\n",
    "\n",
    "    @step\n",
    "    def drink(self):\n",
    "        print(\"Pausing to drink... 🥤\")\n",
    "        self.b = 5\n",
    "        self.next(self.join)\n",
    "        \n",
    "    #have to inherit from the branches and need the name of the func\n",
    "    @step\n",
    "    def join(self, inputs):\n",
    "        print(\"Joining 🖇️\")\n",
    "        self.merge_artifacts(inputs)\n",
    "        print(self.a * self.b)\n",
    "        self.next(self.end)\n",
    "\n",
    "    @step\n",
    "    def end(self):\n",
    "        print(\"Done! 🏁\")\n",
    "\n",
    "\n",
    "if __name__ == \"__main__\":\n",
    "    BranchFlow()\n"
   ]
  },
  {
   "cell_type": "code",
   "execution_count": 9,
   "id": "cd2842e8-a452-4eb7-9cbb-f8fcf6d57315",
   "metadata": {},
   "outputs": [
    {
     "name": "stdout",
     "output_type": "stream",
     "text": [
      "\u001b[35m\u001b[1mMetaflow 2.12.28\u001b[0m\u001b[35m\u001b[22m executing \u001b[0m\u001b[31m\u001b[1mBranchFlow\u001b[0m\u001b[35m\u001b[22m\u001b[0m\u001b[35m\u001b[22m for \u001b[0m\u001b[31m\u001b[1muser:gabriel\u001b[0m\u001b[35m\u001b[22m\u001b[K\u001b[0m\u001b[35m\u001b[22m\u001b[0m\n",
      "\u001b[35m\u001b[22mValidating your flow...\u001b[K\u001b[0m\u001b[35m\u001b[22m\u001b[0m\n",
      "\u001b[32m\u001b[1m    The graph looks good!\u001b[K\u001b[0m\u001b[32m\u001b[1m\u001b[0m\n",
      "\u001b[35m\u001b[22mRunning pylint...\u001b[K\u001b[0m\u001b[35m\u001b[22m\u001b[0m\n",
      "\u001b[32m\u001b[1m    Pylint is happy!\u001b[K\u001b[0m\u001b[32m\u001b[1m\u001b[0m\n",
      "\u001b[35m2024-11-07 15:06:31.310 \u001b[0m\u001b[1mWorkflow starting (run-id 1730988391308925):\u001b[0m\n",
      "\u001b[35m2024-11-07 15:06:31.320 \u001b[0m\u001b[32m[1730988391308925/start/1 (pid 23605)] \u001b[0m\u001b[1mTask is starting.\u001b[0m\n",
      "\u001b[35m2024-11-07 15:06:31.581 \u001b[0m\u001b[32m[1730988391308925/start/1 (pid 23605)] \u001b[0m\u001b[22mStarting 👋\u001b[0m\n",
      "\u001b[35m2024-11-07 15:06:31.614 \u001b[0m\u001b[32m[1730988391308925/start/1 (pid 23605)] \u001b[0m\u001b[1mTask finished successfully.\u001b[0m\n",
      "\u001b[35m2024-11-07 15:06:31.621 \u001b[0m\u001b[32m[1730988391308925/eat/2 (pid 23607)] \u001b[0m\u001b[1mTask is starting.\u001b[0m\n",
      "\u001b[35m2024-11-07 15:06:31.627 \u001b[0m\u001b[32m[1730988391308925/drink/3 (pid 23608)] \u001b[0m\u001b[1mTask is starting.\u001b[0m\n",
      "\u001b[35m2024-11-07 15:06:31.899 \u001b[0m\u001b[32m[1730988391308925/drink/3 (pid 23608)] \u001b[0m\u001b[22mPausing to drink... 🥤\u001b[0m\n",
      "\u001b[35m2024-11-07 15:06:31.900 \u001b[0m\u001b[32m[1730988391308925/eat/2 (pid 23607)] \u001b[0m\u001b[22mPausing to eat... 🍜\u001b[0m\n",
      "\u001b[35m2024-11-07 15:06:31.932 \u001b[0m\u001b[32m[1730988391308925/drink/3 (pid 23608)] \u001b[0m\u001b[1mTask finished successfully.\u001b[0m\n",
      "\u001b[35m2024-11-07 15:06:41.967 \u001b[0m\u001b[32m[1730988391308925/eat/2 (pid 23607)] \u001b[0m\u001b[1mTask finished successfully.\u001b[0m\n",
      "\u001b[35m2024-11-07 15:06:41.974 \u001b[0m\u001b[32m[1730988391308925/join/4 (pid 23620)] \u001b[0m\u001b[1mTask is starting.\u001b[0m\n",
      "\u001b[35m2024-11-07 15:06:42.298 \u001b[0m\u001b[32m[1730988391308925/join/4 (pid 23620)] \u001b[0m\u001b[22mJoining 🖇️\u001b[0m\n",
      "\u001b[35m2024-11-07 15:06:42.299 \u001b[0m\u001b[32m[1730988391308925/join/4 (pid 23620)] \u001b[0m\u001b[22m5\u001b[0m\n",
      "\u001b[35m2024-11-07 15:06:42.348 \u001b[0m\u001b[32m[1730988391308925/join/4 (pid 23620)] \u001b[0m\u001b[1mTask finished successfully.\u001b[0m\n",
      "\u001b[35m2024-11-07 15:06:42.357 \u001b[0m\u001b[32m[1730988391308925/end/5 (pid 23622)] \u001b[0m\u001b[1mTask is starting.\u001b[0m\n",
      "\u001b[35m2024-11-07 15:06:42.642 \u001b[0m\u001b[32m[1730988391308925/end/5 (pid 23622)] \u001b[0m\u001b[22mDone! 🏁\u001b[0m\n",
      "\u001b[35m2024-11-07 15:06:42.677 \u001b[0m\u001b[32m[1730988391308925/end/5 (pid 23622)] \u001b[0m\u001b[1mTask finished successfully.\u001b[0m\n",
      "\u001b[35m2024-11-07 15:06:42.678 \u001b[0m\u001b[1mDone!\u001b[0m\n"
     ]
    }
   ],
   "source": [
    "!python file.py run"
   ]
  },
  {
   "cell_type": "code",
   "execution_count": 11,
   "id": "85c452be-17ed-4b57-9283-d3752636cd5d",
   "metadata": {},
   "outputs": [
    {
     "name": "stdout",
     "output_type": "stream",
     "text": [
      "Overwriting file.py\n"
     ]
    }
   ],
   "source": [
    "%%writefile file.py\n",
    "import time\n",
    "from metaflow import step, FlowSpec\n",
    "\n",
    "\n",
    "class ForeachFlow(FlowSpec):\n",
    "    @step\n",
    "    def start(self):\n",
    "        self.data = [\"Apple\", \"Orange\"]\n",
    "        # to iterate\n",
    "        self.next(self.process, foreach=\"data\")\n",
    "\n",
    "    @step\n",
    "    def process(self):\n",
    "        #self .input access each as a for loop kinda\n",
    "        print(\"Processing:\", self.input)\n",
    "        self.fruit = self.input\n",
    "        self.score = len(self.input)\n",
    "        self.next(self.join)\n",
    "    #because its a for loop, the join step here has to recieive both inputs\n",
    "    @step\n",
    "    def join(self, inputs):\n",
    "        print(\"Choosing the best fruit\")\n",
    "        self.best = max(inputs, key=lambda x: x.score).fruit\n",
    "        print(\"Best fruit:\", self.best)\n",
    "        self.next(self.end)\n",
    "\n",
    "    @step\n",
    "    def end(self):\n",
    "        pass\n",
    "\n",
    "\n",
    "if __name__ == \"__main__\":\n",
    "    ForeachFlow()\n"
   ]
  },
  {
   "cell_type": "code",
   "execution_count": 13,
   "id": "08b663cd-d6c3-417d-9f01-6a1b40c40b65",
   "metadata": {},
   "outputs": [
    {
     "name": "stdout",
     "output_type": "stream",
     "text": [
      "\u001b[35m\u001b[1mMetaflow 2.12.28\u001b[0m\u001b[35m\u001b[22m executing \u001b[0m\u001b[31m\u001b[1mForeachFlow\u001b[0m\u001b[35m\u001b[22m\u001b[0m\u001b[35m\u001b[22m for \u001b[0m\u001b[31m\u001b[1muser:gabriel\u001b[0m\u001b[35m\u001b[22m\u001b[K\u001b[0m\u001b[35m\u001b[22m\u001b[0m\n",
      "\u001b[35m\u001b[22mValidating your flow...\u001b[K\u001b[0m\u001b[35m\u001b[22m\u001b[0m\n",
      "\u001b[32m\u001b[1m    The graph looks good!\u001b[K\u001b[0m\u001b[32m\u001b[1m\u001b[0m\n",
      "\u001b[35m\u001b[22mRunning pylint...\u001b[K\u001b[0m\u001b[35m\u001b[22m\u001b[0m\n",
      "\u001b[32m\u001b[1m    Pylint is happy!\u001b[K\u001b[0m\u001b[32m\u001b[1m\u001b[0m\n",
      "\u001b[35m2024-11-07 15:16:48.020 \u001b[0m\u001b[1mWorkflow starting (run-id 1730989008018437):\u001b[0m\n",
      "\u001b[35m2024-11-07 15:16:48.032 \u001b[0m\u001b[32m[1730989008018437/start/1 (pid 24072)] \u001b[0m\u001b[1mTask is starting.\u001b[0m\n",
      "\u001b[35m2024-11-07 15:16:48.333 \u001b[0m\u001b[32m[1730989008018437/start/1 (pid 24072)] \u001b[0m\u001b[1mForeach yields 2 child steps.\u001b[0m\n",
      "\u001b[35m2024-11-07 15:16:48.333 \u001b[0m\u001b[32m[1730989008018437/start/1 (pid 24072)] \u001b[0m\u001b[1mTask finished successfully.\u001b[0m\n",
      "\u001b[35m2024-11-07 15:16:48.339 \u001b[0m\u001b[32m[1730989008018437/process/2 (pid 24074)] \u001b[0m\u001b[1mTask is starting.\u001b[0m\n",
      "\u001b[35m2024-11-07 15:16:48.344 \u001b[0m\u001b[32m[1730989008018437/process/3 (pid 24075)] \u001b[0m\u001b[1mTask is starting.\u001b[0m\n",
      "\u001b[35m2024-11-07 15:16:48.615 \u001b[0m\u001b[32m[1730989008018437/process/2 (pid 24074)] \u001b[0m\u001b[22mProcessing: Apple\u001b[0m\n",
      "\u001b[35m2024-11-07 15:16:48.615 \u001b[0m\u001b[32m[1730989008018437/process/3 (pid 24075)] \u001b[0m\u001b[22mProcessing: Orange\u001b[0m\n",
      "\u001b[35m2024-11-07 15:16:48.675 \u001b[0m\u001b[32m[1730989008018437/process/3 (pid 24075)] \u001b[0m\u001b[1mTask finished successfully.\u001b[0m\n",
      "\u001b[35m2024-11-07 15:16:48.677 \u001b[0m\u001b[32m[1730989008018437/process/2 (pid 24074)] \u001b[0m\u001b[1mTask finished successfully.\u001b[0m\n",
      "\u001b[35m2024-11-07 15:16:48.683 \u001b[0m\u001b[32m[1730989008018437/join/4 (pid 24078)] \u001b[0m\u001b[1mTask is starting.\u001b[0m\n",
      "\u001b[35m2024-11-07 15:16:48.960 \u001b[0m\u001b[32m[1730989008018437/join/4 (pid 24078)] \u001b[0m\u001b[22mChoosing the best fruit\u001b[0m\n",
      "\u001b[35m2024-11-07 15:16:48.960 \u001b[0m\u001b[32m[1730989008018437/join/4 (pid 24078)] \u001b[0m\u001b[22mBest fruit: Orange\u001b[0m\n",
      "\u001b[35m2024-11-07 15:16:49.003 \u001b[0m\u001b[32m[1730989008018437/join/4 (pid 24078)] \u001b[0m\u001b[1mTask finished successfully.\u001b[0m\n",
      "\u001b[35m2024-11-07 15:16:49.009 \u001b[0m\u001b[32m[1730989008018437/end/5 (pid 24080)] \u001b[0m\u001b[1mTask is starting.\u001b[0m\n",
      "\u001b[35m2024-11-07 15:16:49.318 \u001b[0m\u001b[32m[1730989008018437/end/5 (pid 24080)] \u001b[0m\u001b[1mTask finished successfully.\u001b[0m\n",
      "\u001b[35m2024-11-07 15:16:49.319 \u001b[0m\u001b[1mDone!\u001b[0m\n"
     ]
    }
   ],
   "source": [
    "!python file.py run"
   ]
  },
  {
   "cell_type": "code",
   "execution_count": 14,
   "id": "406e9765-565f-4253-824b-1bd2c3927c28",
   "metadata": {},
   "outputs": [
    {
     "name": "stdout",
     "output_type": "stream",
     "text": [
      "Overwriting file.py\n"
     ]
    }
   ],
   "source": [
    "%%writefile file.py\n",
    "import time\n",
    "from metaflow import step, FlowSpec, kubernetes, catch\n",
    "\n",
    "\n",
    "class ScaleOutFlow(FlowSpec):\n",
    "    @step\n",
    "    def start(self):\n",
    "        self.data = [\"Apple\", \"Orange\", \"Watermelon\"]\n",
    "        self.next(self.process, foreach=\"data\")\n",
    "\n",
    "    @kubernetes\n",
    "    @step\n",
    "    def process(self):\n",
    "        print(\"Processing:\", self.input)\n",
    "        self.fruit = self.input\n",
    "        self.score = len(self.input)\n",
    "        self.next(self.memory_hog)\n",
    "\n",
    "    # UNCOMMENT THIS LINE FOR CLOUD EXECUTION:\n",
    "    # @kubernetes(memory=10000)\n",
    "    @catch\n",
    "    @step\n",
    "    def memory_hog(self):\n",
    "        print(\"Requesting a lot of memory\")\n",
    "        self.bytes_used = len(\"x\" * 1_000_000_000)\n",
    "        print(\"Success!\")\n",
    "        self.next(self.join)\n",
    "\n",
    "    @step\n",
    "    def join(self, inputs):\n",
    "        print(\"Choosing the best fruit\")\n",
    "        self.best = max(inputs, key=lambda x: x.score).fruit\n",
    "        print(\"Best fruit:\", self.best)\n",
    "        self.next(self.end)\n",
    "\n",
    "    @step\n",
    "    def end(self):\n",
    "        pass\n",
    "\n",
    "\n",
    "if __name__ == \"__main__\":\n",
    "    ScaleOutFlow()\n"
   ]
  },
  {
   "cell_type": "code",
   "execution_count": 15,
   "id": "d7d0fe33-cb86-4a99-bbd6-ab13e4c7c145",
   "metadata": {},
   "outputs": [
    {
     "name": "stdout",
     "output_type": "stream",
     "text": [
      "Overwriting file.py\n"
     ]
    }
   ],
   "source": [
    "%%writefile file.py\n",
    "\n",
    "from metaflow import FlowSpec, step, card, pypi_base, current, Parameter, kubernetes\n",
    "from metaflow.cards import Markdown, Table, Image\n",
    "from io import BytesIO\n",
    "\n",
    "URL = (\n",
    "    \"https://metaflow-demo-public.s3.us-west-2.amazonaws.com\"\n",
    "    \"/taxi/sandbox/train_sample.parquet\"\n",
    ")\n",
    "DAYS = [\"Sunday\", \"Monday\", \"Tuesday\", \"Wednesday\", \"Thursday\", \"Friday\", \"Saturday\"]\n",
    "\n",
    "\n",
    "@pypi_base(packages={\"datashader\": \"0.16.3\", \"pandas\": \"2.2.2\", \"pyarrow\": \"17.0.0\"})\n",
    "class NYCVizFlow(FlowSpec):\n",
    "    data_url = Parameter(\"data_url\", default=URL)\n",
    "\n",
    "    @card\n",
    "    @step\n",
    "    def start(self):\n",
    "        import pandas as pd\n",
    "\n",
    "        df = pd.read_parquet(self.data_url)\n",
    "        self.size = df.shape[0]\n",
    "        print(f\"Processing {self.size} datapoints...\")\n",
    "        df[\"key\"] = pd.to_datetime(df[\"key\"])\n",
    "        self.dfs_by_dow = [(d, df[df.key.dt.day_name() == d]) for d in DAYS]\n",
    "        self.next(self.visualize, foreach=\"dfs_by_dow\")\n",
    "\n",
    "    # UNCOMMENT THIS LINE FOR CLOUD EXECUTION:\n",
    "    # @kubernetes\n",
    "    @card\n",
    "    @step\n",
    "    def visualize(self):\n",
    "        self.day_index = self.index\n",
    "        self.dow, df = self.input\n",
    "        self.dow_size = df.shape[0]\n",
    "\n",
    "        print(f\"Plotting {self.dow}\")\n",
    "        self.img = render_heatmap(df)\n",
    "        self.next(self.validate)\n",
    "\n",
    "    @card(type=\"blank\")\n",
    "    @step\n",
    "    def validate(self, inputs):\n",
    "        # validate that all data points got processed\n",
    "        self.num_rows = sum(inp.dow_size for inp in inputs)\n",
    "        assert inputs[0].size == self.num_rows\n",
    "\n",
    "        # produce a report card\n",
    "        current.card.append(Markdown(\"# NYC Taxi drop off locations by weekday\"))\n",
    "        rows = []\n",
    "        for task in sorted(inputs, key=lambda x: x.day_index):\n",
    "            rows.append([task.dow, Image(task.img)])\n",
    "        current.card.append(Table(rows, headers=[\"Day of week\", \"Heatmap\"]))\n",
    "        self.next(self.end)\n",
    "\n",
    "    @step\n",
    "    def end(self):\n",
    "        print(\"Success!\")\n",
    "\n",
    "\n",
    "def render_heatmap(df, x_range=(-74.02, -73.90), y_range=(40.69, 40.83), w=375, h=450):\n",
    "    from datashader import Canvas, count, colors\n",
    "    from datashader import transfer_functions as tr_fns\n",
    "\n",
    "    cvs = Canvas(plot_width=w, plot_height=h, x_range=x_range, y_range=y_range)\n",
    "    agg = cvs.points(\n",
    "        df, \"dropoff_longitude\", \"dropoff_latitude\", count(\"passenger_count\")\n",
    "    )\n",
    "    img = tr_fns.shade(agg, cmap=colors.Hot, how=\"log\")\n",
    "    img = tr_fns.set_background(img, \"black\")\n",
    "    buf = BytesIO()\n",
    "    img.to_pil().save(buf, format=\"png\")\n",
    "    return buf.getvalue()\n",
    "\n",
    "\n",
    "if __name__ == \"__main__\":\n",
    "    NYCVizFlow()\n"
   ]
  },
  {
   "cell_type": "code",
   "execution_count": 16,
   "id": "aaba3c90-4157-4894-9653-7311c284e6f4",
   "metadata": {},
   "outputs": [
    {
     "name": "stdout",
     "output_type": "stream",
     "text": [
      "\u001b[35m\u001b[1mMetaflow 2.12.28\u001b[0m\u001b[35m\u001b[22m executing \u001b[0m\u001b[31m\u001b[1mNYCVizFlow\u001b[0m\u001b[35m\u001b[22m\u001b[0m\u001b[35m\u001b[22m for \u001b[0m\u001b[31m\u001b[1muser:gabriel\u001b[0m\u001b[35m\u001b[22m\u001b[K\u001b[0m\u001b[35m\u001b[22m\u001b[0m\n",
      "\u001b[1m    Incompatible environment\u001b[0m\u001b[22m:\u001b[K\u001b[0m\u001b[22m\u001b[0m\n",
      "\u001b[22m    @pypi_base decorator requires --environment=conda or --environment=pypi or --environment=fast-bakery\u001b[K\u001b[0m\u001b[22m\u001b[0m\n",
      "\u001b[22m\u001b[K\u001b[0m\n"
     ]
    }
   ],
   "source": [
    "!python file.py run"
   ]
  },
  {
   "cell_type": "code",
   "execution_count": 20,
   "id": "4a167998-c0c6-4458-a7c0-b33d74bde3ed",
   "metadata": {},
   "outputs": [
    {
     "name": "stdout",
     "output_type": "stream",
     "text": [
      "Overwriting file.py\n"
     ]
    }
   ],
   "source": [
    "%%writefile file.py\n",
    "\n",
    "from metaflow import (\n",
    "    FlowSpec,\n",
    "    step,\n",
    "    resources,\n",
    "    pypi_base,\n",
    "    Parameter,\n",
    "    card,\n",
    "    current,\n",
    ")\n",
    "from metaflow.cards import Markdown, Table, Image\n",
    "\n",
    "BASE_URL = \"https://metaflow-demo-public.s3.us-west-2.amazonaws.com/taxi/clean\"\n",
    "TRAIN_URL = BASE_URL + \"/train_sample.parquet\"\n",
    "TEST_URL = BASE_URL + \"/test.parquet\"\n",
    "\n",
    "\n",
    "@pypi_base(\n",
    "    packages={\n",
    "        \"scikit-learn\": \"1.5.2\",\n",
    "        \"pandas\": \"2.2.2\",\n",
    "        \"pyarrow\": \"17.0.0\",\n",
    "        \"matplotlib\": \"3.9.2\",\n",
    "    }\n",
    ")\n",
    "class FareRegressionFlow(FlowSpec):\n",
    "    train_data_url = Parameter(\"train_url\", default=TRAIN_URL)\n",
    "    test_data_url = Parameter(\"test_url\", default=TEST_URL)\n",
    "\n",
    "    FEATURES = [\n",
    "        \"pickup_year\",\n",
    "        \"pickup_dow\",\n",
    "        \"pickup_hour\",\n",
    "        \"abs_distance\",\n",
    "        \"pickup_longitude\",\n",
    "        \"dropoff_longitude\",\n",
    "    ]\n",
    "\n",
    "    @card\n",
    "    @step\n",
    "    def start(self):\n",
    "        import pandas as pd\n",
    "\n",
    "        train_df = pd.read_parquet(self.train_data_url)\n",
    "        self.X_train = train_df.loc[:, self.FEATURES]\n",
    "        self.y_train = train_df.loc[:, \"fare_amount\"]\n",
    "        print(\"Training set includes %d data points\" % len(train_df))\n",
    "        self.next(self.model)\n",
    "\n",
    "    @card\n",
    "    @step\n",
    "    def model(self):\n",
    "        self.rf_model = make_random_forest()\n",
    "        self.rf_model.fit(self.X_train, self.y_train)\n",
    "        self.next(self.evaluate)\n",
    "\n",
    "    @card\n",
    "    @step\n",
    "    def evaluate(self):\n",
    "        from sklearn.metrics import mean_squared_error as mse\n",
    "        import numpy as np\n",
    "        import pandas as pd\n",
    "\n",
    "        test_df = pd.read_parquet(self.test_data_url)\n",
    "        self.X_test = test_df.loc[:, self.FEATURES]\n",
    "        self.y_test = test_df.loc[:, \"fare_amount\"]\n",
    "        n_rows = self.y_test.shape[0]\n",
    "\n",
    "        self.y_pred = self.rf_model.predict(self.X_test)\n",
    "        self.y_baseline_pred = np.repeat(self.y_test.mean(), n_rows)\n",
    "        self.model_rmse = mse(self.y_test, self.y_pred)\n",
    "        self.baseline_rmse = mse(self.y_test, self.y_baseline_pred)\n",
    "\n",
    "        print(f\"Model RMSE: {self.model_rmse}\")\n",
    "        print(f\"Baseline RMSE: {self.baseline_rmse}\")\n",
    "        self.next(self.create_report)\n",
    "\n",
    "    @card(type=\"blank\")\n",
    "    @step\n",
    "    def create_report(self):\n",
    "        self.plot = plot(self.y_test, self.y_pred)\n",
    "        current.card.append(Markdown(\"# Model Report\"))\n",
    "        current.card.append(\n",
    "            Table(\n",
    "                [\n",
    "                    [\"Random Forest\", float(self.model_rmse)],\n",
    "                    [\"Baseline\", float(self.baseline_rmse)],\n",
    "                ],\n",
    "                headers=[\"Model\", \"RMSE\"],\n",
    "            )\n",
    "        )\n",
    "        current.card.append(Image(self.plot, label=\"Correct vs. Predicted Fare\"))\n",
    "        self.next(self.end)\n",
    "\n",
    "    @step\n",
    "    def end(self):\n",
    "        pass\n",
    "\n",
    "\n",
    "def make_random_forest():\n",
    "    from sklearn.pipeline import Pipeline\n",
    "    from sklearn.preprocessing import OneHotEncoder, StandardScaler\n",
    "    from sklearn.ensemble import RandomForestRegressor\n",
    "    from sklearn.compose import ColumnTransformer\n",
    "\n",
    "    ct_pipe = ColumnTransformer(\n",
    "        transformers=[\n",
    "            (\"encoder\", OneHotEncoder(categories=\"auto\"), [\"pickup_dow\"]),\n",
    "            (\n",
    "                \"std_scaler\",\n",
    "                StandardScaler(),\n",
    "                [\"abs_distance\", \"pickup_longitude\", \"dropoff_longitude\"],\n",
    "            ),\n",
    "        ]\n",
    "    )\n",
    "    return Pipeline(\n",
    "        [\n",
    "            (\"ct\", ct_pipe),\n",
    "            (\n",
    "                \"forest_reg\",\n",
    "                RandomForestRegressor(\n",
    "                    n_estimators=10, n_jobs=-1, random_state=3, max_features=8\n",
    "                ),\n",
    "            ),\n",
    "        ]\n",
    "    )\n",
    "\n",
    "\n",
    "def plot(correct, predicted):\n",
    "    import matplotlib.pyplot as plt\n",
    "    from io import BytesIO\n",
    "    import numpy\n",
    "\n",
    "    MAX_FARE = 100\n",
    "    line = numpy.arange(0, MAX_FARE, MAX_FARE / 1000)\n",
    "    plt.rcParams.update({\"font.size\": 22})\n",
    "    plt.scatter(x=correct, y=predicted, alpha=0.01, linewidth=0.5)\n",
    "    plt.plot(line, line, linewidth=2, color=\"black\")\n",
    "    plt.xlabel(\"Correct fare\")\n",
    "    plt.ylabel(\"Predicted fare\")\n",
    "    plt.xlim([0, MAX_FARE])\n",
    "    plt.ylim([0, MAX_FARE])\n",
    "    fig = plt.gcf()\n",
    "    fig.set_size_inches(18, 10)\n",
    "    buf = BytesIO()\n",
    "    fig.savefig(buf)\n",
    "    return buf.getvalue()\n",
    "\n",
    "\n",
    "if __name__ == \"__main__\":\n",
    "    FareRegressionFlow()\n"
   ]
  },
  {
   "cell_type": "code",
   "execution_count": 21,
   "id": "89ab4501-45cb-4852-a729-48c021ea8d84",
   "metadata": {},
   "outputs": [
    {
     "name": "stdout",
     "output_type": "stream",
     "text": [
      "\u001b[35m\u001b[1mMetaflow 2.12.28\u001b[0m\u001b[35m\u001b[22m executing \u001b[0m\u001b[31m\u001b[1mFareRegressionFlow\u001b[0m\u001b[35m\u001b[22m\u001b[0m\u001b[35m\u001b[22m for \u001b[0m\u001b[31m\u001b[1muser:gabriel\u001b[0m\u001b[35m\u001b[22m\u001b[K\u001b[0m\u001b[35m\u001b[22m\u001b[0m\n",
      "\u001b[1m    Incompatible environment\u001b[0m\u001b[22m:\u001b[K\u001b[0m\u001b[22m\u001b[0m\n",
      "\u001b[22m    @pypi_base decorator requires --environment=conda or --environment=pypi or --environment=fast-bakery\u001b[K\u001b[0m\u001b[22m\u001b[0m\n",
      "\u001b[22m\u001b[K\u001b[0m\n"
     ]
    }
   ],
   "source": [
    "!python file.py run"
   ]
  },
  {
   "cell_type": "code",
   "execution_count": 19,
   "id": "54916fb0-5adc-4ef4-9343-910680843f1a",
   "metadata": {},
   "outputs": [
    {
     "name": "stdout",
     "output_type": "stream",
     "text": [
      "Collecting pypi\n",
      "  Downloading pypi-2.1.tar.gz (997 bytes)\n",
      "  Preparing metadata (setup.py) ... \u001b[?25ldone\n",
      "\u001b[?25hBuilding wheels for collected packages: pypi\n",
      "  Building wheel for pypi (setup.py) ... \u001b[?25ldone\n",
      "\u001b[?25h  Created wheel for pypi: filename=pypi-2.1-py3-none-any.whl size=1334 sha256=0fc0bbdb64e7de75b3afe4646da1a11d6373c6970ea0a007c9150d00d6af54fe\n",
      "  Stored in directory: /Users/gabriel/Library/Caches/pip/wheels/28/4c/49/00cdce1e7a68a48810e9203391f80f4c7344a5e4ad9d4d6649\n",
      "Successfully built pypi\n",
      "Installing collected packages: pypi\n",
      "Successfully installed pypi-2.1\n"
     ]
    }
   ],
   "source": [
    "!pip install pypi"
   ]
  },
  {
   "cell_type": "code",
   "execution_count": 22,
   "id": "4ddb5b93-f07b-4029-8afc-1503c56cdef0",
   "metadata": {},
   "outputs": [
    {
     "name": "stdout",
     "output_type": "stream",
     "text": [
      "Overwriting file.py\n"
     ]
    }
   ],
   "source": [
    "%%writefile file.py\n",
    "from metaflow import FlowSpec, step\n",
    "\n",
    "class ForeachFlow(FlowSpec):\n",
    "\n",
    "    @step\n",
    "    def start(self):\n",
    "        self.titles = ['Stranger Things',\n",
    "                       'House of Cards',\n",
    "                       'Narcos']\n",
    "        self.next(self.a, foreach='titles')\n",
    "\n",
    "    @step\n",
    "    def a(self):\n",
    "        self.title = '%s processed' % self.input\n",
    "        self.next(self.join)\n",
    "\n",
    "    @step\n",
    "    def join(self, inputs):\n",
    "        self.results = [input.title for input in inputs]\n",
    "        self.next(self.end)\n",
    "\n",
    "    @step\n",
    "    def end(self):\n",
    "        print('\\n'.join(self.results))\n",
    "\n",
    "if __name__ == '__main__':\n",
    "    ForeachFlow()"
   ]
  },
  {
   "cell_type": "code",
   "execution_count": 23,
   "id": "b777c0f6-8e59-436f-a7f4-65da342d5bc8",
   "metadata": {},
   "outputs": [
    {
     "name": "stdout",
     "output_type": "stream",
     "text": [
      "\u001b[35m\u001b[1mMetaflow 2.12.28\u001b[0m\u001b[35m\u001b[22m executing \u001b[0m\u001b[31m\u001b[1mForeachFlow\u001b[0m\u001b[35m\u001b[22m\u001b[0m\u001b[35m\u001b[22m for \u001b[0m\u001b[31m\u001b[1muser:gabriel\u001b[0m\u001b[35m\u001b[22m\u001b[K\u001b[0m\u001b[35m\u001b[22m\u001b[0m\n",
      "\u001b[35m\u001b[22mValidating your flow...\u001b[K\u001b[0m\u001b[35m\u001b[22m\u001b[0m\n",
      "\u001b[32m\u001b[1m    The graph looks good!\u001b[K\u001b[0m\u001b[32m\u001b[1m\u001b[0m\n",
      "\u001b[35m\u001b[22mRunning pylint...\u001b[K\u001b[0m\u001b[35m\u001b[22m\u001b[0m\n",
      "\u001b[32m\u001b[1m    Pylint is happy!\u001b[K\u001b[0m\u001b[32m\u001b[1m\u001b[0m\n",
      "\u001b[35m2024-11-08 00:30:30.778 \u001b[0m\u001b[1mWorkflow starting (run-id 1731022230777618):\u001b[0m\n",
      "\u001b[35m2024-11-08 00:30:30.792 \u001b[0m\u001b[32m[1731022230777618/start/1 (pid 43671)] \u001b[0m\u001b[1mTask is starting.\u001b[0m\n",
      "\u001b[35m2024-11-08 00:30:31.110 \u001b[0m\u001b[32m[1731022230777618/start/1 (pid 43671)] \u001b[0m\u001b[1mForeach yields 3 child steps.\u001b[0m\n",
      "\u001b[35m2024-11-08 00:30:31.110 \u001b[0m\u001b[32m[1731022230777618/start/1 (pid 43671)] \u001b[0m\u001b[1mTask finished successfully.\u001b[0m\n",
      "\u001b[35m2024-11-08 00:30:31.118 \u001b[0m\u001b[32m[1731022230777618/a/2 (pid 43673)] \u001b[0m\u001b[1mTask is starting.\u001b[0m\n",
      "\u001b[35m2024-11-08 00:30:31.125 \u001b[0m\u001b[32m[1731022230777618/a/3 (pid 43674)] \u001b[0m\u001b[1mTask is starting.\u001b[0m\n",
      "\u001b[35m2024-11-08 00:30:31.133 \u001b[0m\u001b[32m[1731022230777618/a/4 (pid 43675)] \u001b[0m\u001b[1mTask is starting.\u001b[0m\n",
      "\u001b[35m2024-11-08 00:30:31.483 \u001b[0m\u001b[32m[1731022230777618/a/2 (pid 43673)] \u001b[0m\u001b[1mTask finished successfully.\u001b[0m\n",
      "\u001b[35m2024-11-08 00:30:31.485 \u001b[0m\u001b[32m[1731022230777618/a/3 (pid 43674)] \u001b[0m\u001b[1mTask finished successfully.\u001b[0m\n",
      "\u001b[35m2024-11-08 00:30:31.489 \u001b[0m\u001b[32m[1731022230777618/a/4 (pid 43675)] \u001b[0m\u001b[1mTask finished successfully.\u001b[0m\n",
      "\u001b[35m2024-11-08 00:30:31.495 \u001b[0m\u001b[32m[1731022230777618/join/5 (pid 43679)] \u001b[0m\u001b[1mTask is starting.\u001b[0m\n",
      "\u001b[35m2024-11-08 00:30:31.814 \u001b[0m\u001b[32m[1731022230777618/join/5 (pid 43679)] \u001b[0m\u001b[1mTask finished successfully.\u001b[0m\n",
      "\u001b[35m2024-11-08 00:30:31.821 \u001b[0m\u001b[32m[1731022230777618/end/6 (pid 43681)] \u001b[0m\u001b[1mTask is starting.\u001b[0m\n",
      "\u001b[35m2024-11-08 00:30:32.098 \u001b[0m\u001b[32m[1731022230777618/end/6 (pid 43681)] \u001b[0m\u001b[22mStranger Things processed\u001b[0m\n",
      "\u001b[35m2024-11-08 00:30:32.138 \u001b[0m\u001b[32m[1731022230777618/end/6 (pid 43681)] \u001b[0m\u001b[22mHouse of Cards processed\u001b[0m\n",
      "\u001b[35m2024-11-08 00:30:32.138 \u001b[0m\u001b[32m[1731022230777618/end/6 (pid 43681)] \u001b[0m\u001b[22mNarcos processed\u001b[0m\n",
      "\u001b[35m2024-11-08 00:30:32.139 \u001b[0m\u001b[32m[1731022230777618/end/6 (pid 43681)] \u001b[0m\u001b[1mTask finished successfully.\u001b[0m\n",
      "\u001b[35m2024-11-08 00:30:32.140 \u001b[0m\u001b[1mDone!\u001b[0m\n"
     ]
    }
   ],
   "source": [
    "!python file.py run"
   ]
  },
  {
   "cell_type": "code",
   "execution_count": 24,
   "id": "5eb5a88d-c9c1-4937-a83b-0c9ebef1c0b6",
   "metadata": {},
   "outputs": [
    {
     "name": "stdout",
     "output_type": "stream",
     "text": [
      "Overwriting file.py\n"
     ]
    }
   ],
   "source": [
    "%%writefile file.py\n",
    "from metaflow import FlowSpec, Parameter, step\n",
    "\n",
    "class ParameterFlow(FlowSpec):\n",
    "    alpha = Parameter('alpha',\n",
    "                      help='Learning rate',\n",
    "                      default=0.01)\n",
    "\n",
    "    @step\n",
    "    def start(self):\n",
    "        print('alpha is %f' % self.alpha)\n",
    "        self.next(self.end)\n",
    "\n",
    "    @step\n",
    "    def end(self):\n",
    "        print('alpha is still %f' % self.alpha)\n",
    "\n",
    "if __name__ == '__main__':\n",
    "    ParameterFlow()"
   ]
  },
  {
   "cell_type": "code",
   "execution_count": 25,
   "id": "1bde4f71-5a2f-45ee-8402-42011c838287",
   "metadata": {},
   "outputs": [
    {
     "name": "stdout",
     "output_type": "stream",
     "text": [
      "\u001b[35m\u001b[1mMetaflow 2.12.28\u001b[0m\u001b[35m\u001b[22m executing \u001b[0m\u001b[31m\u001b[1mParameterFlow\u001b[0m\u001b[35m\u001b[22m\u001b[0m\u001b[35m\u001b[22m for \u001b[0m\u001b[31m\u001b[1muser:gabriel\u001b[0m\u001b[35m\u001b[22m\u001b[K\u001b[0m\u001b[35m\u001b[22m\u001b[0m\n",
      "\u001b[35m\u001b[22mValidating your flow...\u001b[K\u001b[0m\u001b[35m\u001b[22m\u001b[0m\n",
      "\u001b[32m\u001b[1m    The graph looks good!\u001b[K\u001b[0m\u001b[32m\u001b[1m\u001b[0m\n",
      "\u001b[35m\u001b[22mRunning pylint...\u001b[K\u001b[0m\u001b[35m\u001b[22m\u001b[0m\n",
      "\u001b[32m\u001b[1m    Pylint is happy!\u001b[K\u001b[0m\u001b[32m\u001b[1m\u001b[0m\n",
      "\u001b[35m2024-11-08 00:33:10.512 \u001b[0m\u001b[1mWorkflow starting (run-id 1731022390510478):\u001b[0m\n",
      "\u001b[35m2024-11-08 00:33:10.527 \u001b[0m\u001b[32m[1731022390510478/start/1 (pid 43797)] \u001b[0m\u001b[1mTask is starting.\u001b[0m\n",
      "\u001b[35m2024-11-08 00:33:10.790 \u001b[0m\u001b[32m[1731022390510478/start/1 (pid 43797)] \u001b[0m\u001b[22malpha is 0.600000\u001b[0m\n",
      "\u001b[35m2024-11-08 00:33:10.825 \u001b[0m\u001b[32m[1731022390510478/start/1 (pid 43797)] \u001b[0m\u001b[1mTask finished successfully.\u001b[0m\n",
      "\u001b[35m2024-11-08 00:33:10.832 \u001b[0m\u001b[32m[1731022390510478/end/2 (pid 43799)] \u001b[0m\u001b[1mTask is starting.\u001b[0m\n",
      "\u001b[35m2024-11-08 00:33:11.089 \u001b[0m\u001b[32m[1731022390510478/end/2 (pid 43799)] \u001b[0m\u001b[22malpha is still 0.600000\u001b[0m\n",
      "\u001b[35m2024-11-08 00:33:11.128 \u001b[0m\u001b[32m[1731022390510478/end/2 (pid 43799)] \u001b[0m\u001b[1mTask finished successfully.\u001b[0m\n",
      "\u001b[35m2024-11-08 00:33:11.129 \u001b[0m\u001b[1mDone!\u001b[0m\n"
     ]
    }
   ],
   "source": [
    "!python file.py run --alpha 0.6"
   ]
  },
  {
   "cell_type": "code",
   "execution_count": 26,
   "id": "0c5bc99a-8bb9-4a1b-b2c5-7780ba19d6a4",
   "metadata": {},
   "outputs": [
    {
     "name": "stdout",
     "output_type": "stream",
     "text": [
      "Overwriting file.py\n"
     ]
    }
   ],
   "source": [
    "%%writefile file.py\n",
    "from metaflow import FlowSpec, Parameter, step, JSONType\n",
    "\n",
    "class JSONParameterFlow(FlowSpec):\n",
    "    gdp = Parameter('gdp',\n",
    "                    help='Country-GDP Mapping',\n",
    "                    type=JSONType,\n",
    "                    default='{\"US\": 1939}')\n",
    "\n",
    "    country = Parameter('country',\n",
    "                        help='Choose a country',\n",
    "                        default='US')\n",
    "\n",
    "    @step\n",
    "    def start(self):\n",
    "        print('The GDP of %s is $%dB' % (self.country, self.gdp[self.country]))\n",
    "        self.next(self.end)\n",
    "\n",
    "    @step\n",
    "    def end(self):\n",
    "        pass\n",
    "\n",
    "if __name__ == '__main__':\n",
    "    JSONParameterFlow()"
   ]
  },
  {
   "cell_type": "code",
   "execution_count": 27,
   "id": "5faa02f8-34a5-439c-aacf-9a1ac2fd3395",
   "metadata": {},
   "outputs": [
    {
     "name": "stdout",
     "output_type": "stream",
     "text": [
      "\u001b[35m\u001b[1mMetaflow 2.12.28\u001b[0m\u001b[35m\u001b[22m executing \u001b[0m\u001b[31m\u001b[1mJSONParameterFlow\u001b[0m\u001b[35m\u001b[22m\u001b[0m\u001b[35m\u001b[22m for \u001b[0m\u001b[31m\u001b[1muser:gabriel\u001b[0m\u001b[35m\u001b[22m\u001b[K\u001b[0m\u001b[35m\u001b[22m\u001b[0m\n",
      "\u001b[35m\u001b[22mValidating your flow...\u001b[K\u001b[0m\u001b[35m\u001b[22m\u001b[0m\n",
      "\u001b[32m\u001b[1m    The graph looks good!\u001b[K\u001b[0m\u001b[32m\u001b[1m\u001b[0m\n",
      "\u001b[35m\u001b[22mRunning pylint...\u001b[K\u001b[0m\u001b[35m\u001b[22m\u001b[0m\n",
      "\u001b[32m\u001b[1m    Pylint is happy!\u001b[K\u001b[0m\u001b[32m\u001b[1m\u001b[0m\n",
      "\u001b[35m2024-11-08 00:36:28.739 \u001b[0m\u001b[1mWorkflow starting (run-id 1731022588736829):\u001b[0m\n",
      "\u001b[35m2024-11-08 00:36:28.757 \u001b[0m\u001b[32m[1731022588736829/start/1 (pid 43937)] \u001b[0m\u001b[1mTask is starting.\u001b[0m\n",
      "\u001b[35m2024-11-08 00:36:29.038 \u001b[0m\u001b[32m[1731022588736829/start/1 (pid 43937)] \u001b[0m\u001b[22mThe GDP of US is $1B\u001b[0m\n",
      "\u001b[35m2024-11-08 00:36:29.080 \u001b[0m\u001b[32m[1731022588736829/start/1 (pid 43937)] \u001b[0m\u001b[1mTask finished successfully.\u001b[0m\n",
      "\u001b[35m2024-11-08 00:36:29.087 \u001b[0m\u001b[32m[1731022588736829/end/2 (pid 43939)] \u001b[0m\u001b[1mTask is starting.\u001b[0m\n",
      "\u001b[35m2024-11-08 00:36:29.400 \u001b[0m\u001b[32m[1731022588736829/end/2 (pid 43939)] \u001b[0m\u001b[1mTask finished successfully.\u001b[0m\n",
      "\u001b[35m2024-11-08 00:36:29.401 \u001b[0m\u001b[1mDone!\u001b[0m\n"
     ]
    }
   ],
   "source": [
    "!python file.py run --gdp '{\"US\": 1}'"
   ]
  },
  {
   "cell_type": "code",
   "execution_count": 28,
   "id": "3c335a79-33d4-41eb-ab06-bcda1bc1e758",
   "metadata": {},
   "outputs": [
    {
     "name": "stdout",
     "output_type": "stream",
     "text": [
      "Overwriting file.py\n"
     ]
    }
   ],
   "source": [
    "%%writefile file.py\n",
    "from metaflow import FlowSpec, step\n",
    "\n",
    "class MergeArtifactsFlow(FlowSpec):\n",
    "\n",
    "    @step\n",
    "    def start(self):\n",
    "        self.pass_down = 'a'\n",
    "        self.next(self.a, self.b)\n",
    "\n",
    "    @step\n",
    "    def a(self):\n",
    "        self.common = 5\n",
    "        self.x = 1\n",
    "        self.y = 3\n",
    "        self.from_a = 6\n",
    "        self.next(self.join)\n",
    "\n",
    "    @step\n",
    "    def b(self):\n",
    "        self.common = 5\n",
    "        self.x = 2\n",
    "        self.y = 4\n",
    "        self.next(self.join)\n",
    "\n",
    "    @step\n",
    "    def join(self, inputs):\n",
    "        self.x = inputs.a.x\n",
    "        self.merge_artifacts(inputs, exclude=['y'])\n",
    "        print('x is %s' % self.x)\n",
    "        print('pass_down is %s' % self.pass_down)\n",
    "        print('common is %d' % self.common)\n",
    "        print('from_a is %d' % self.from_a)\n",
    "        self.next(self.c)\n",
    "\n",
    "    @step\n",
    "    def c(self):\n",
    "        self.next(self.d, self.e)\n",
    "\n",
    "    @step\n",
    "    def d(self):\n",
    "        self.conflicting = 7\n",
    "        self.next(self.join2)\n",
    "\n",
    "    @step\n",
    "    def e(self):\n",
    "        self.conflicting = 8\n",
    "        self.next(self.join2)\n",
    "\n",
    "    @step\n",
    "    def join2(self, inputs):\n",
    "        self.merge_artifacts(inputs, include=['pass_down', 'common'])\n",
    "        print('Only pass_down and common exist here')\n",
    "        self.next(self.end)\n",
    "\n",
    "    @step\n",
    "    def end(self):\n",
    "        pass\n",
    "\n",
    "if __name__ == '__main__':\n",
    "    MergeArtifactsFlow()"
   ]
  },
  {
   "cell_type": "code",
   "execution_count": 30,
   "id": "ccb71d75-ebe9-4c4f-9295-911af77df2c3",
   "metadata": {},
   "outputs": [
    {
     "name": "stdout",
     "output_type": "stream",
     "text": [
      "\u001b[35m\u001b[1mMetaflow 2.12.28\u001b[0m\u001b[35m\u001b[22m executing \u001b[0m\u001b[31m\u001b[1mMergeArtifactsFlow\u001b[0m\u001b[35m\u001b[22m\u001b[0m\u001b[35m\u001b[22m for \u001b[0m\u001b[31m\u001b[1muser:gabriel\u001b[0m\u001b[35m\u001b[22m\u001b[K\u001b[0m\u001b[35m\u001b[22m\u001b[0m\n",
      "\u001b[35m\u001b[22mValidating your flow...\u001b[K\u001b[0m\u001b[35m\u001b[22m\u001b[0m\n",
      "\u001b[32m\u001b[1m    The graph looks good!\u001b[K\u001b[0m\u001b[32m\u001b[1m\u001b[0m\n",
      "\u001b[35m\u001b[22mRunning pylint...\u001b[K\u001b[0m\u001b[35m\u001b[22m\u001b[0m\n",
      "\u001b[32m\u001b[1m    Pylint is happy!\u001b[K\u001b[0m\u001b[32m\u001b[1m\u001b[0m\n",
      "\u001b[35m2024-11-08 00:42:48.955 \u001b[0m\u001b[1mWorkflow starting (run-id 1731022968954115):\u001b[0m\n",
      "\u001b[35m2024-11-08 00:42:48.972 \u001b[0m\u001b[32m[1731022968954115/start/1 (pid 44211)] \u001b[0m\u001b[1mTask is starting.\u001b[0m\n",
      "\u001b[35m2024-11-08 00:42:49.267 \u001b[0m\u001b[32m[1731022968954115/start/1 (pid 44211)] \u001b[0m\u001b[1mTask finished successfully.\u001b[0m\n",
      "\u001b[35m2024-11-08 00:42:49.274 \u001b[0m\u001b[32m[1731022968954115/a/2 (pid 44213)] \u001b[0m\u001b[1mTask is starting.\u001b[0m\n",
      "\u001b[35m2024-11-08 00:42:49.280 \u001b[0m\u001b[32m[1731022968954115/b/3 (pid 44214)] \u001b[0m\u001b[1mTask is starting.\u001b[0m\n",
      "\u001b[35m2024-11-08 00:42:49.586 \u001b[0m\u001b[32m[1731022968954115/b/3 (pid 44214)] \u001b[0m\u001b[1mTask finished successfully.\u001b[0m\n",
      "\u001b[35m2024-11-08 00:42:49.588 \u001b[0m\u001b[32m[1731022968954115/a/2 (pid 44213)] \u001b[0m\u001b[1mTask finished successfully.\u001b[0m\n",
      "\u001b[35m2024-11-08 00:42:49.594 \u001b[0m\u001b[32m[1731022968954115/join/4 (pid 44217)] \u001b[0m\u001b[1mTask is starting.\u001b[0m\n",
      "\u001b[35m2024-11-08 00:42:49.849 \u001b[0m\u001b[32m[1731022968954115/join/4 (pid 44217)] \u001b[0m\u001b[22mx is 1\u001b[0m\n",
      "\u001b[35m2024-11-08 00:42:49.850 \u001b[0m\u001b[32m[1731022968954115/join/4 (pid 44217)] \u001b[0m\u001b[22mpass_down is a\u001b[0m\n",
      "\u001b[35m2024-11-08 00:42:49.889 \u001b[0m\u001b[32m[1731022968954115/join/4 (pid 44217)] \u001b[0m\u001b[22mcommon is 5\u001b[0m\n",
      "\u001b[35m2024-11-08 00:42:49.889 \u001b[0m\u001b[32m[1731022968954115/join/4 (pid 44217)] \u001b[0m\u001b[22mfrom_a is 6\u001b[0m\n",
      "\u001b[35m2024-11-08 00:42:49.891 \u001b[0m\u001b[32m[1731022968954115/join/4 (pid 44217)] \u001b[0m\u001b[1mTask finished successfully.\u001b[0m\n",
      "\u001b[35m2024-11-08 00:42:49.897 \u001b[0m\u001b[32m[1731022968954115/c/5 (pid 44219)] \u001b[0m\u001b[1mTask is starting.\u001b[0m\n",
      "\u001b[35m2024-11-08 00:42:50.189 \u001b[0m\u001b[32m[1731022968954115/c/5 (pid 44219)] \u001b[0m\u001b[1mTask finished successfully.\u001b[0m\n",
      "\u001b[35m2024-11-08 00:42:50.195 \u001b[0m\u001b[32m[1731022968954115/d/6 (pid 44221)] \u001b[0m\u001b[1mTask is starting.\u001b[0m\n",
      "\u001b[35m2024-11-08 00:42:50.201 \u001b[0m\u001b[32m[1731022968954115/e/7 (pid 44222)] \u001b[0m\u001b[1mTask is starting.\u001b[0m\n",
      "\u001b[35m2024-11-08 00:42:50.524 \u001b[0m\u001b[32m[1731022968954115/d/6 (pid 44221)] \u001b[0m\u001b[1mTask finished successfully.\u001b[0m\n",
      "\u001b[35m2024-11-08 00:42:50.524 \u001b[0m\u001b[32m[1731022968954115/e/7 (pid 44222)] \u001b[0m\u001b[1mTask finished successfully.\u001b[0m\n",
      "\u001b[35m2024-11-08 00:42:50.533 \u001b[0m\u001b[32m[1731022968954115/join2/8 (pid 44225)] \u001b[0m\u001b[1mTask is starting.\u001b[0m\n",
      "\u001b[35m2024-11-08 00:42:50.790 \u001b[0m\u001b[32m[1731022968954115/join2/8 (pid 44225)] \u001b[0m\u001b[22mOnly pass_down and common exist here\u001b[0m\n",
      "\u001b[35m2024-11-08 00:42:50.824 \u001b[0m\u001b[32m[1731022968954115/join2/8 (pid 44225)] \u001b[0m\u001b[1mTask finished successfully.\u001b[0m\n",
      "\u001b[35m2024-11-08 00:42:50.830 \u001b[0m\u001b[32m[1731022968954115/end/9 (pid 44227)] \u001b[0m\u001b[1mTask is starting.\u001b[0m\n",
      "\u001b[35m2024-11-08 00:42:51.141 \u001b[0m\u001b[32m[1731022968954115/end/9 (pid 44227)] \u001b[0m\u001b[1mTask finished successfully.\u001b[0m\n",
      "\u001b[35m2024-11-08 00:42:51.141 \u001b[0m\u001b[1mDone!\u001b[0m\n"
     ]
    }
   ],
   "source": [
    "!python file.py run"
   ]
  },
  {
   "cell_type": "code",
   "execution_count": 31,
   "id": "b89acce1-a133-4fa7-bdae-95e796d2ea87",
   "metadata": {},
   "outputs": [
    {
     "name": "stdout",
     "output_type": "stream",
     "text": [
      "Metaflow 2.12.28 executing JSONParameterFlow for user:gabriel\n",
      "Validating your flow...\n",
      "    The graph looks good!\n",
      "Running pylint...\n",
      "    Pylint is happy!\n",
      "2024-11-08 00:47:46.084 Workflow starting (run-id 1731023266083255):\n",
      "2024-11-08 00:47:46.099 [1731023266083255/start/1 (pid 44438)] Task is starting.\n",
      "2024-11-08 00:47:46.376 [1731023266083255/start/1 (pid 44438)] The GDP of US is $1939B\n",
      "2024-11-08 00:47:46.412 [1731023266083255/start/1 (pid 44438)] Task finished successfully.\n",
      "2024-11-08 00:47:46.419 [1731023266083255/end/2 (pid 44440)] Task is starting.\n",
      "2024-11-08 00:47:46.741 [1731023266083255/end/2 (pid 44440)] Task finished successfully.\n",
      "2024-11-08 00:47:46.742 Done!\n"
     ]
    },
    {
     "data": {
      "text/plain": [
       "Run('JSONParameterFlow/1731023266083255')"
      ]
     },
     "execution_count": 31,
     "metadata": {},
     "output_type": "execute_result"
    }
   ],
   "source": [
    "from metaflow import FlowSpec, Parameter, step, JSONType, NBRunner\n",
    "\n",
    "class JSONParameterFlow(FlowSpec):\n",
    "    gdp = Parameter('gdp',\n",
    "                    help='Country-GDP Mapping',\n",
    "                    type=JSONType,\n",
    "                    default='{\"US\": 1939}')\n",
    "\n",
    "    country = Parameter('country',\n",
    "                        help='Choose a country',\n",
    "                        default='US')\n",
    "\n",
    "    @step\n",
    "    def start(self):\n",
    "        print('The GDP of %s is $%dB' % (self.country, self.gdp[self.country]))\n",
    "        self.next(self.end)\n",
    "\n",
    "    @step\n",
    "    def end(self):\n",
    "        pass\n",
    "\n",
    "NBRunner(JSONParameterFlow).nbrun()"
   ]
  },
  {
   "cell_type": "code",
   "execution_count": 42,
   "id": "612b17b2-f7a5-4449-a291-04380bf9a4b6",
   "metadata": {},
   "outputs": [
    {
     "name": "stdout",
     "output_type": "stream",
     "text": [
      "Metaflow 2.12.28 executing JSONParameterFlow for user:gabriel\n",
      "Validating your flow...\n",
      "    The graph looks good!\n",
      "Running pylint...\n",
      "    Pylint is happy!\n",
      "2024-11-08 00:56:53.309 Workflow starting (run-id 1731023813308871):\n",
      "2024-11-08 00:56:53.324 [1731023813308871/start/1 (pid 44878)] Task is starting.\n",
      "2024-11-08 00:56:53.588 [1731023813308871/start/1 (pid 44878)] The GDP of US is $23315B\n",
      "2024-11-08 00:56:53.622 [1731023813308871/start/1 (pid 44878)] Task finished successfully.\n",
      "2024-11-08 00:56:53.629 [1731023813308871/end/2 (pid 44880)] Task is starting.\n",
      "2024-11-08 00:56:53.945 [1731023813308871/end/2 (pid 44880)] Task finished successfully.\n",
      "2024-11-08 00:56:53.946 Done!\n"
     ]
    },
    {
     "data": {
      "text/plain": [
       "Run('JSONParameterFlow/1731023813308871')"
      ]
     },
     "execution_count": 42,
     "metadata": {},
     "output_type": "execute_result"
    }
   ],
   "source": [
    "from metaflow import FlowSpec, Parameter, step, JSONType, NBRunner\n",
    "import json\n",
    "\n",
    "class JSONParameterFlow(FlowSpec):\n",
    "    gdp = Parameter('gdp',\n",
    "                    help='Country-GDP Mapping',\n",
    "                    type=JSONType,\n",
    "                    default=json.dumps({\"US\": 1939}))  # Convert dict to JSON string\n",
    "    country = Parameter('country',\n",
    "                        help='Choose a country',\n",
    "                        default='US')\n",
    "    @step\n",
    "    def start(self):\n",
    "        gdp_data = json.loads(self.gdp) if isinstance(self.gdp, str) else self.gdp\n",
    "        print('The GDP of %s is $%dB' % (self.country, gdp_data[self.country]))\n",
    "        self.next(self.end)\n",
    "    @step\n",
    "    def end(self):\n",
    "        pass\n",
    "\n",
    "# Pass the parameter as a JSON string\n",
    "NBRunner(JSONParameterFlow).nbrun(gdp=json.dumps({\"US\": 23315}))"
   ]
  },
  {
   "cell_type": "code",
   "execution_count": null,
   "id": "2d4f8fca-f96d-42ac-b67f-b0ada3fd669a",
   "metadata": {},
   "outputs": [],
   "source": []
  }
 ],
 "metadata": {
  "kernelspec": {
   "display_name": "Python 3 (ipykernel)",
   "language": "python",
   "name": "python3"
  },
  "language_info": {
   "codemirror_mode": {
    "name": "ipython",
    "version": 3
   },
   "file_extension": ".py",
   "mimetype": "text/x-python",
   "name": "python",
   "nbconvert_exporter": "python",
   "pygments_lexer": "ipython3",
   "version": "3.12.7"
  }
 },
 "nbformat": 4,
 "nbformat_minor": 5
}
